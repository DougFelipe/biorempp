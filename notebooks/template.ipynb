{
 "cells": [
  {
   "cell_type": "code",
   "execution_count": 1,
   "metadata": {},
   "outputs": [],
   "source": [
    "import os\n",
    "import sys\n",
    "import logging\n",
    "from pathlib import Path\n",
    "\n",
    "import numpy as np\n",
    "import pandas as pd\n",
    "\n",
    "# Configure pandas display options\n",
    "pd.set_option(\"display.max_rows\", 120)\n",
    "pd.set_option(\"display.max_columns\", 120)\n",
    "\n",
    "# Setup logging\n",
    "logging.basicConfig(level=logging.INFO, stream=sys.stdout)\n",
    "\n",
    "# Enable auto-reload for development\n",
    "%load_ext autoreload\n",
    "%autoreload 2"
   ]
  },
  {
   "cell_type": "code",
   "execution_count": 2,
   "metadata": {},
   "outputs": [
    {
     "name": "stdout",
     "output_type": "stream",
     "text": [
      "2025-08-04 20:44:34 | INFO     | biorempp                  | setup_logging   | BioRemPP logging system initialized\n",
      "2025-08-04 20:44:34 | INFO     | biorempp                  | setup_logging   | BioRemPP logging system initialized\n",
      "2025-08-04 20:44:34 | INFO     | biorempp.analysis.module_registry | __init__        | ModuleRegistry initialized\n",
      "2025-08-04 20:44:34 | INFO     | biorempp                  | setup_logging   | BioRemPP logging system initialized\n",
      "2025-08-04 20:44:34 | INFO     | biorempp.analysis.module_registry | __init__        | ModuleRegistry initialized\n"
     ]
    }
   ],
   "source": [
    "# Import BioRemPP modular components\n",
    "from biorempp.analysis.gene_pathway_analysis_processing import GenePathwayAnalyzer\n",
    "from biorempp.pipelines.modular_processing import ModularProcessingPipeline\n",
    "from biorempp.analysis.module_registry import registry\n",
    "from biorempp.utils.post_merge_reader import PostMergeDataReader"
   ]
  },
  {
   "cell_type": "markdown",
   "metadata": {},
   "source": [
    "**BioRemPP Modular Analysis Template**\n",
    "\n",
    "This template demonstrates how to use BioRemPP's modular processing system for data analysis.\n",
    "The system focuses on data processing and returns DataFrames for external visualization.\n",
    "\n",
    "**PLEASE** save this file using the following naming convention: \n",
    "`NUMBER_FOR_SORTING-YOUR_INITIALS-SHORT_DESCRIPTION`, \n",
    "e.g. `1.0-fw-initial-data-exploration`."
   ]
  },
  {
   "cell_type": "code",
   "execution_count": 3,
   "metadata": {},
   "outputs": [
    {
     "name": "stdout",
     "output_type": "stream",
     "text": [
      "2025-08-04 20:44:49 | INFO     | biorempp.analysis.gene_pathway_analyzer | __init__        | GenePathwayAnalyzer initialized: Analyzes KO counts per sample from BioRemPP data\n",
      "2025-08-04 20:44:49 | INFO     | biorempp.utils.post_merge_reader | load_latest     | Loading latest kegg data from C:\\Users\\Douglas\\Documents\\biorempp_package\\biorempp\\outputs\\results_table\n",
      "2025-08-04 20:44:49 | WARNING  | biorempp.utils.post_merge_reader | _find_latest_file | No files found with prefix 'KEGG_Results_' in C:\\Users\\Douglas\\Documents\\biorempp_package\\biorempp\\outputs\\results_table\n",
      "2025-08-04 20:44:49 | INFO     | biorempp.utils.post_merge_reader | load_latest     | Loading latest kegg data from C:\\Users\\Douglas\\Documents\\biorempp_package\\biorempp\\outputs\\results_table\n",
      "2025-08-04 20:44:49 | WARNING  | biorempp.utils.post_merge_reader | _find_latest_file | No files found with prefix 'KEGG_Results_' in C:\\Users\\Douglas\\Documents\\biorempp_package\\biorempp\\outputs\\results_table\n"
     ]
    },
    {
     "ename": "FileNotFoundError",
     "evalue": "No kegg files found in C:\\Users\\Douglas\\Documents\\biorempp_package\\biorempp\\outputs\\results_table",
     "output_type": "error",
     "traceback": [
      "\u001b[1;31m---------------------------------------------------------------------------\u001b[0m",
      "\u001b[1;31mFileNotFoundError\u001b[0m                         Traceback (most recent call last)",
      "Cell \u001b[1;32mIn[3], line 6\u001b[0m\n\u001b[0;32m      3\u001b[0m reader \u001b[38;5;241m=\u001b[39m PostMergeDataReader()\n\u001b[0;32m      5\u001b[0m \u001b[38;5;66;03m# Load latest processed data\u001b[39;00m\n\u001b[1;32m----> 6\u001b[0m data \u001b[38;5;241m=\u001b[39m \u001b[43mreader\u001b[49m\u001b[38;5;241;43m.\u001b[39;49m\u001b[43mload_latest\u001b[49m\u001b[43m(\u001b[49m\u001b[38;5;124;43m\"\u001b[39;49m\u001b[38;5;124;43mkegg\u001b[39;49m\u001b[38;5;124;43m\"\u001b[39;49m\u001b[43m)\u001b[49m\n\u001b[0;32m      7\u001b[0m \u001b[38;5;28mprint\u001b[39m(\u001b[38;5;124mf\u001b[39m\u001b[38;5;124m\"\u001b[39m\u001b[38;5;124mLoaded data shape: \u001b[39m\u001b[38;5;132;01m{\u001b[39;00mdata\u001b[38;5;241m.\u001b[39mshape\u001b[38;5;132;01m}\u001b[39;00m\u001b[38;5;124m\"\u001b[39m)\n\u001b[0;32m      9\u001b[0m \u001b[38;5;66;03m# Run KO analysis\u001b[39;00m\n",
      "File \u001b[1;32m~\\Documents\\biorempp_package\\biorempp\\src\\biorempp\\utils\\post_merge_reader.py:218\u001b[0m, in \u001b[0;36mPostMergeDataReader.load_latest\u001b[1;34m(self, data_type)\u001b[0m\n\u001b[0;32m    215\u001b[0m latest_file \u001b[38;5;241m=\u001b[39m \u001b[38;5;28mself\u001b[39m\u001b[38;5;241m.\u001b[39m_find_latest_file(data_type)\n\u001b[0;32m    217\u001b[0m \u001b[38;5;28;01mif\u001b[39;00m latest_file \u001b[38;5;129;01mis\u001b[39;00m \u001b[38;5;28;01mNone\u001b[39;00m:\n\u001b[1;32m--> 218\u001b[0m     \u001b[38;5;28;01mraise\u001b[39;00m \u001b[38;5;167;01mFileNotFoundError\u001b[39;00m(\u001b[38;5;124mf\u001b[39m\u001b[38;5;124m\"\u001b[39m\u001b[38;5;124mNo \u001b[39m\u001b[38;5;132;01m{\u001b[39;00mdata_type\u001b[38;5;132;01m}\u001b[39;00m\u001b[38;5;124m files found in \u001b[39m\u001b[38;5;132;01m{\u001b[39;00m\u001b[38;5;28mself\u001b[39m\u001b[38;5;241m.\u001b[39mresults_dir\u001b[38;5;132;01m}\u001b[39;00m\u001b[38;5;124m\"\u001b[39m)\n\u001b[0;32m    220\u001b[0m \u001b[38;5;28;01mtry\u001b[39;00m:\n\u001b[0;32m    221\u001b[0m     \u001b[38;5;66;03m# Read the file\u001b[39;00m\n\u001b[0;32m    222\u001b[0m     logger\u001b[38;5;241m.\u001b[39mdebug(\u001b[38;5;124mf\u001b[39m\u001b[38;5;124m\"\u001b[39m\u001b[38;5;124mReading file: \u001b[39m\u001b[38;5;132;01m{\u001b[39;00mlatest_file\u001b[38;5;132;01m}\u001b[39;00m\u001b[38;5;124m\"\u001b[39m)\n",
      "\u001b[1;31mFileNotFoundError\u001b[0m: No kegg files found in C:\\Users\\Douglas\\Documents\\biorempp_package\\biorempp\\outputs\\results_table"
     ]
    }
   ],
   "source": [
    "# Example: Load data and run analysis\n",
    "analyzer = GenePathwayAnalyzer()\n",
    "reader = PostMergeDataReader()\n",
    "\n",
    "# Load latest processed data\n",
    "data = reader.load_latest(\"kegg\")\n",
    "print(f\"Loaded data shape: {data.shape}\")\n",
    "\n",
    "# Run KO analysis\n",
    "ko_results = analyzer.analyze_ko_counts_per_sample(data)\n",
    "print(\"KO Analysis Results:\")\n",
    "print(ko_results.head())"
   ]
  }
 ],
 "metadata": {
  "kernelspec": {
   "display_name": "biorempp",
   "language": "python",
   "name": "python3"
  },
  "language_info": {
   "codemirror_mode": {
    "name": "ipython",
    "version": 3
   },
   "file_extension": ".py",
   "mimetype": "text/x-python",
   "name": "python",
   "nbconvert_exporter": "python",
   "pygments_lexer": "ipython3",
   "version": "3.13.5"
  },
  "pycharm": {
   "stem_cell": {
    "cell_type": "raw",
    "metadata": {
     "collapsed": false
    },
    "source": []
   }
  }
 },
 "nbformat": 4,
 "nbformat_minor": 2
}
