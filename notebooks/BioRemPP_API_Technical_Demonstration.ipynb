{
  "cells": [
    {
      "cell_type": "markdown",
      "id": "2e6f8122",
      "metadata": {
        "id": "2e6f8122"
      },
      "source": [
        "# BioRemPP: Technical Demonstration of Python API\n",
        "\n",
        "\n",
        "## Comprehensive Analysis Framework for Bioremediation Potential Assessment via Programmatic Interface\n",
        "\n",
        "---\n",
        "\n",
        "### Introduction\n",
        "\n",
        "The **Bioremediation Potential Profile (BioRemPP)** provides not only a command-line interface but also a comprehensive **Python API** for programmatic integration into bioinformatics workflows, Jupyter notebooks, and automated analysis pipelines. This notebook demonstrates the complete functionality available through the Python API, showcasing the same analytical capabilities as the CLI but with enhanced flexibility for data manipulation and custom workflows.\n",
        "\n",
        "### Scientific Context\n",
        "\n",
        "Environmental contamination analysis through bioremediation potential assessment requires computational tools that can be seamlessly integrated into existing research pipelines. The BioRemPP Python API addresses this need by providing direct programmatic access to:\n",
        "\n",
        "1. **Database Integration**: Direct access to BioRemPP core database, KEGG, HADEG, and ToxCSM databases\n",
        "2. **Pipeline Processing**: Standardized analytical workflows with customizable parameters\n",
        "3. **Data Structure Access**: Direct manipulation of results as pandas DataFrames\n",
        "4. **Error Handling**: Comprehensive exception handling for robust applications\n",
        "\n",
        "\n",
        "### API Architecture Overview\n",
        "\n",
        "The BioRemPP Python API follows clean architecture principles with:\n",
        "- **Pipeline Functions**: High-level processing functions for each database\n",
        "- **Modular Design**: Separated concerns for input processing, analysis, and output\n",
        "- **Type Safety**: Comprehensive type hints for enhanced development experience\n",
        "- **Configuration Options**: Flexible parameter configuration for advanced use cases\n",
        "\n",
        "This demonstration follows the same analytical workflow as the CLI demonstration but showcases the enhanced capabilities available through programmatic access.\n",
        "\n",
        "## Citation\n",
        "\n",
        "When using the BioRemPP API in academic research, please cite:\n",
        "\n",
        "```\n",
        "BioRemPP: Bioremediation Potential Profile — a computational framework\n",
        "for bioremediation analysis. Version {biorempp.__version__}\n",
        "```\n",
        "\n",
        "\n",
        "\n",
        "---"
      ]
    },
    {
      "cell_type": "markdown",
      "id": "90d54d2c",
      "metadata": {
        "id": "90d54d2c"
      },
      "source": [
        "## 1. Installation and Environment Setup\n",
        "\n",
        "### 1.1 Package Installation\n",
        "\n",
        "BioRemPP can be installed through standard Python package management. For this demonstration, we ensure the latest version is available and properly configured."
      ]
    },
    {
      "cell_type": "code",
      "execution_count": null,
      "id": "a5ebdc7e",
      "metadata": {
        "id": "a5ebdc7e"
      },
      "outputs": [],
      "source": [
        "# Install BioRemPP from PyPI\n",
        "!pip install --index-url https://test.pypi.org/simple/ --extra-index-url https://pypi.org/simple/ biorempp==0.7.0.post1.dev2\n",
        "\n",
        "# Install additional required packages for data analysis\n",
        "!pip install pandas matplotlib seaborn requests"
      ]
    },
    {
      "cell_type": "markdown",
      "id": "5db29e5b",
      "metadata": {
        "id": "5db29e5b"
      },
      "source": [
        "### 1.2 Import Required Libraries\n",
        "\n",
        "We import the necessary libraries for data analysis, visualization, and BioRemPP API access."
      ]
    },
    {
      "cell_type": "code",
      "execution_count": 7,
      "id": "366bdffd",
      "metadata": {
        "colab": {
          "base_uri": "https://localhost:8080/"
        },
        "id": "366bdffd",
        "outputId": "8f7f05d7-597e-4462-8456-fe37ff87888e"
      },
      "outputs": [
        {
          "output_type": "stream",
          "name": "stdout",
          "text": [
            "✅ BioRemPP version: 0.7.0.post1.dev2\n",
            "✅ Installation path: /usr/local/lib/python3.11/dist-packages/biorempp/__init__.py\n",
            "✅ All required libraries imported successfully\n"
          ]
        }
      ],
      "source": [
        "# Core data analysis libraries\n",
        "import pandas as pd\n",
        "import numpy as np\n",
        "import matplotlib.pyplot as plt\n",
        "import seaborn as sns\n",
        "from pathlib import Path\n",
        "import requests\n",
        "import json\n",
        "from typing import Dict, Any, Optional\n",
        "import warnings\n",
        "warnings.filterwarnings('ignore')\n",
        "\n",
        "\n",
        "\n",
        "# Verification imports\n",
        "import biorempp\n",
        "from biorempp.app.application import BioRemPPApplication\n",
        "\n",
        "print(f\"✅ BioRemPP version: {biorempp.__version__}\")\n",
        "print(f\"✅ Installation path: {biorempp.__file__}\")\n",
        "print(\"✅ All required libraries imported successfully\")"
      ]
    },
    {
      "cell_type": "code",
      "source": [
        "# Imports principais do BioRemPP\n",
        "from biorempp.pipelines import (\n",
        "    run_biorempp_processing_pipeline,\n",
        "    run_kegg_processing_pipeline,\n",
        "    run_hadeg_processing_pipeline,\n",
        "    run_toxcsm_processing_pipeline\n",
        ")\n",
        "\n",
        "# Imports para funcionalidades complementares\n",
        "from biorempp.input_processing import (\n",
        "    validate_and_process_input,\n",
        "    merge_input_with_biorempp,\n",
        "    merge_input_with_kegg,\n",
        "    merge_input_with_hadeg,\n",
        "    merge_input_with_toxcsm\n",
        ")\n",
        "\n",
        "# Bibliotecas para análise e visualização\n",
        "import pandas as pd\n",
        "import numpy as np\n",
        "import matplotlib.pyplot as plt\n",
        "import seaborn as sns\n",
        "from pathlib import Path\n",
        "import json\n",
        "\n",
        "print(\"✅ Imports realizados com sucesso!\")\n",
        "print(f\"📦 BioRemPP - Demonstração via API Python\")\n",
        "print(f\"🔬 Versão do pandas: {pd.__version__}\")\n",
        "print(f\"📊 Versão do matplotlib: {plt.matplotlib.__version__}\")\n",
        "print(f\"📈 Versão do seaborn: {sns.__version__}\")"
      ],
      "metadata": {
        "colab": {
          "base_uri": "https://localhost:8080/"
        },
        "id": "2cYExDHMMC_j",
        "outputId": "95561ea5-8deb-4ae7-f4b0-7baf0b079e12"
      },
      "id": "2cYExDHMMC_j",
      "execution_count": 5,
      "outputs": [
        {
          "output_type": "stream",
          "name": "stdout",
          "text": [
            "✅ Imports realizados com sucesso!\n",
            "📦 BioRemPP - Demonstração via API Python\n",
            "🔬 Versão do pandas: 2.2.2\n",
            "📊 Versão do matplotlib: 3.10.0\n",
            "📈 Versão do seaborn: 0.13.2\n"
          ]
        }
      ]
    },
    {
      "cell_type": "markdown",
      "id": "d392b7ab",
      "metadata": {
        "id": "d392b7ab"
      },
      "source": [
        "### 1.3 API Configuration and Setup\n",
        "\n",
        "Unlike CLI usage, the Python API allows for direct configuration of processing parameters and enhanced error handling."
      ]
    },
    {
      "cell_type": "code",
      "execution_count": 18,
      "id": "d169563e",
      "metadata": {
        "colab": {
          "base_uri": "https://localhost:8080/"
        },
        "id": "d169563e",
        "outputId": "c06ee0ba-5e9c-4f1e-8648-fd70526fc16b"
      },
      "outputs": [
        {
          "output_type": "stream",
          "name": "stdout",
          "text": [
            "🔧 API Processing Configuration:\n",
            "   output_dir: api_results\n",
            "   optimize_types: True\n",
            "   add_timestamp: False\n",
            "   custom_headers: True\n",
            "   validate_input: True\n",
            "\n",
            "✅ API environment configured successfully\n"
          ]
        }
      ],
      "source": [
        "# Configure processing parameters\n",
        "PROCESSING_CONFIG = {\n",
        "    'output_dir': Path('api_results'),\n",
        "    'optimize_types': True,\n",
        "    'add_timestamp': False,\n",
        "    'custom_headers': True,\n",
        "    'validate_input': True\n",
        "}\n",
        "\n",
        "# Create output directory\n",
        "PROCESSING_CONFIG['output_dir'].mkdir(exist_ok=True)\n",
        "\n",
        "# Display configuration\n",
        "print(\"🔧 API Processing Configuration:\")\n",
        "for key, value in PROCESSING_CONFIG.items():\n",
        "    print(f\"   {key}: {value}\")\n",
        "\n",
        "print(\"\\n✅ API environment configured successfully\")"
      ]
    },
    {
      "cell_type": "markdown",
      "id": "e9233795",
      "metadata": {
        "id": "e9233795"
      },
      "source": [
        "---\n",
        "\n",
        "## 2. Database Information and Discovery via API\n",
        "\n",
        "### 2.1 Programmatic Database Enumeration\n",
        "\n",
        "The Python API provides direct access to database information through the application interface, enabling programmatic discovery and metadata analysis."
      ]
    },
    {
      "cell_type": "code",
      "execution_count": 9,
      "id": "6db81338",
      "metadata": {
        "colab": {
          "base_uri": "https://localhost:8080/"
        },
        "id": "6db81338",
        "outputId": "25df3449-c3eb-41be-9214-1136c8df3701"
      },
      "outputs": [
        {
          "output_type": "stream",
          "name": "stdout",
          "text": [
            "\n",
            "[DATABASES] Available Databases:\n",
            "======================================================================\n",
            "\n",
            "[DB] BIOREMPP\n",
            "   Name: BioRemPP Core Database\n",
            "   Description: Bioremediation Potential Profile Database (6,623 records)\n",
            "   File: database_biorempp.csv (0.69 MB)\n",
            "\n",
            "[DB] HADEG\n",
            "   Name: HADEG Database\n",
            "   Description: Hydrocarbon Aerobic Degradation Enzymes and Genes (1,168 records)\n",
            "   File: database_hadeg.csv (0.04 MB)\n",
            "\n",
            "[DB] KEGG\n",
            "   Name: KEGG Pathways\n",
            "   Description: 20 KEGG for xenobiotic biodegradation pathways (871 records)\n",
            "   File: kegg_degradation_pathways.csv (0.02 MB)\n",
            "\n",
            "[DB] TOXCSM\n",
            "   Name: ToxCSM Database\n",
            "   Description: Comprehensive Prediction of Small Molecule Toxicity Profiles (323 records, 66 endpoints)\n",
            "   File: database_toxcsm.csv (0.18 MB)\n",
            "\n",
            "[SAMPLE] Example Input Data:\n",
            "   File: sample_data.txt (0.18 MB)\n",
            "   Content: 10 organisms with 23,663 KO identifiers\n",
            "   Format: Organism headers (>) and KO entries\n",
            "\n",
            "[USAGE] Usage Examples:\n",
            "   biorempp --input sample_data.txt --all-databases\n",
            "   biorempp --input sample_data.txt --database biorempp\n",
            "   biorempp --database-info biorempp\n",
            "   biorempp --list-databases\n",
            "\n",
            "📊 Database enumeration completed via API\n",
            "   Available databases retrieved programmatically\n",
            "\n",
            "🔍 Programmatic Database Analysis:\n",
            "   - Database information accessible via API\n",
            "   - Metadata available for processing pipelines\n",
            "   - Configuration parameters retrievable\n"
          ]
        }
      ],
      "source": [
        "# Initialize BioRemPP application for database information\n",
        "app = BioRemPPApplication()\n",
        "\n",
        "# Programmatically retrieve database list\n",
        "# This simulates the --list-databases functionality\n",
        "try:\n",
        "    # Run the list databases command programmatically\n",
        "    result = app.run(['--list-databases'])\n",
        "    print(\"📊 Database enumeration completed via API\")\n",
        "    print(\"   Available databases retrieved programmatically\")\n",
        "\n",
        "    # Additional programmatic access to database metadata\n",
        "    print(\"\\n🔍 Programmatic Database Analysis:\")\n",
        "    print(\"   - Database information accessible via API\")\n",
        "    print(\"   - Metadata available for processing pipelines\")\n",
        "    print(\"   - Configuration parameters retrievable\")\n",
        "\n",
        "except Exception as e:\n",
        "    print(f\"⚠️ Error accessing database information: {e}\")"
      ]
    },
    {
      "cell_type": "markdown",
      "id": "c3687d6e",
      "metadata": {
        "id": "c3687d6e"
      },
      "source": [
        "### 2.2 Direct Database Information Access\n",
        "\n",
        "The API provides enhanced access to database metadata through direct function calls and structured data access."
      ]
    },
    {
      "cell_type": "code",
      "execution_count": 10,
      "id": "543c4e86",
      "metadata": {
        "colab": {
          "base_uri": "https://localhost:8080/"
        },
        "id": "543c4e86",
        "outputId": "fb5fb6fd-8642-41dd-b381-65c7c29cb06c"
      },
      "outputs": [
        {
          "output_type": "stream",
          "name": "stdout",
          "text": [
            "📋 Database Information via API:\n",
            "==================================================\n",
            "\n",
            " BioRemPP Core Database\n",
            "======================================================================\n",
            " Description: Bioremediation Potential Profile\n",
            " Size: 6,623 records (0.69 MB)\n",
            "[FORMAT] Format: CSV with semicolon separator\n",
            "\n",
            "🔍 Database Schema:\n",
            "    1. ko\n",
            "    2. genesymbol\n",
            "    3. genename\n",
            "    4. cpd\n",
            "    5. compoundclass\n",
            "    6. referenceAG\n",
            "    7. compoundname\n",
            "    8. enzyme_activity\n",
            "\n",
            "⭐ Key Features:\n",
            "   • 986 unique KEGG Orthology (KO) identifiers\n",
            "   • 323 unique compounds across 12 chemical classes\n",
            "   • 978 unique enzyme gene symbols\n",
            "   • 150 different enzyme activities\n",
            "\n",
            "🎯 Primary Usage:\n",
            "   Primary database for bioremediation analysis\n",
            "\n",
            "[USAGE] Usage Examples:\n",
            "   biorempp --input sample_data.txt --database biorempp\n",
            "   biorempp --input sample_data.txt --all-databases\n",
            "   biorempp --list-databases\n",
            "\n",
            "✅ BIOREMPP: Database accessible via API\n",
            "\n",
            " KEGG Degradation Pathways\n",
            "======================================================================\n",
            " Description: KEGG-derived biodegradation pathway information\n",
            " Size: 871 records (0.02 MB)\n",
            "[FORMAT] Format: CSV with semicolon separator\n",
            "\n",
            "🔍 Database Schema:\n",
            "    1. ko\n",
            "    2. pathname\n",
            "    3. genesymbol\n",
            "\n",
            "⭐ Key Features:\n",
            "   • 517 unique KO identifiers\n",
            "   • 20 degradation pathways (Naphthalene, Aromatic, Toluene, etc.)\n",
            "   • 513 unique gene symbols\n",
            "   • Focus on xenobiotic degradation\n",
            "\n",
            "🎯 Primary Usage:\n",
            "   Pathway enrichment analysis and degradation route identification\n",
            "\n",
            "[USAGE] Usage Examples:\n",
            "   biorempp --input sample_data.txt --database kegg\n",
            "   biorempp --input sample_data.txt --all-databases\n",
            "   biorempp --list-databases\n",
            "\n",
            "✅ KEGG: Database accessible via API\n",
            "\n",
            " Hydrocarbon Aerobic Degradation Enzymes and Genes\n",
            "======================================================================\n",
            " Description: manually curated database containing sequences of experimentally validated\n",
            " Size: 1,168 records (0.04 MB)\n",
            "[FORMAT] Format: CSV with semicolon separator\n",
            "\n",
            "🔍 Database Schema:\n",
            "    1. Gene\n",
            "    2. ko\n",
            "    3. Pathway\n",
            "    4. compound_pathway\n",
            "\n",
            "⭐ Key Features:\n",
            "   • 323 unique genes involved in degradation\n",
            "   • 339 unique KO identifiers\n",
            "   • 71 distinct metabolic pathways\n",
            "   • 5 major compound pathway categories (Alkanes, Aromatics, etc.)\n",
            "\n",
            "🎯 Primary Usage:\n",
            "   Specific biodegradation pathway analysis and gene-pathway mapping\n",
            "\n",
            "[USAGE] Usage Examples:\n",
            "   biorempp --input sample_data.txt --database hadeg\n",
            "   biorempp --input sample_data.txt --all-databases\n",
            "   biorempp --list-databases\n",
            "\n",
            "✅ HADEG: Database accessible via API\n",
            "\n",
            " ToxCSM Toxicity Database\n",
            "======================================================================\n",
            " Description: Comprehensive toxicity prediction database\n",
            " Size: 323 records (0.18 MB)\n",
            "[FORMAT] Format: CSV with semicolon separator\n",
            "\n",
            "🔍 Database Schema:\n",
            "    1. SMILES\n",
            "    2. cpd\n",
            "    3. ChEBI\n",
            "    4. compoundname\n",
            "    5. 66 toxicity endpoints\n",
            "    6. Nuclear receptor (NR_*), Stress response (SR_*), Genotoxicity (Gen_*)\n",
            "    7. Environmental (Env_*), Organ toxicity (Org_*) assessments\n",
            "\n",
            "⭐ Key Features:\n",
            "   • 314 unique SMILES molecular structures\n",
            "   • 66 toxicity endpoints with value/label pairs\n",
            "   • Multiple toxicity categories: Nuclear receptors, Stress response, Genotoxicity, Environmental, Organ-specific\n",
            "   • ChEBI identifiers for chemical standardization\n",
            "\n",
            "🎯 Primary Usage:\n",
            "   Comprehensive toxicity evaluation and safety assessment\n",
            "\n",
            "[USAGE] Usage Examples:\n",
            "   biorempp --input sample_data.txt --database toxcsm\n",
            "   biorempp --input sample_data.txt --all-databases\n",
            "   biorempp --list-databases\n",
            "\n",
            "✅ TOXCSM: Database accessible via API\n",
            "\n",
            "📊 Summary: 4/4 databases accessible\n"
          ]
        }
      ],
      "source": [
        "# Programmatic database information retrieval\n",
        "databases = ['biorempp', 'kegg', 'hadeg', 'toxcsm']\n",
        "database_info = {}\n",
        "\n",
        "print(\"📋 Database Information via API:\")\n",
        "print(\"=\" * 50)\n",
        "\n",
        "for db in databases:\n",
        "    try:\n",
        "        # Simulate database info retrieval\n",
        "        info_result = app.run(['--database-info', db])\n",
        "        database_info[db] = {\n",
        "            'name': db.upper(),\n",
        "            'status': 'accessible',\n",
        "            'api_ready': True\n",
        "        }\n",
        "        print(f\"✅ {db.upper()}: Database accessible via API\")\n",
        "\n",
        "    except Exception as e:\n",
        "        database_info[db] = {\n",
        "            'name': db.upper(),\n",
        "            'status': 'error',\n",
        "            'error': str(e)\n",
        "        }\n",
        "        print(f\"❌ {db.upper()}: {e}\")\n",
        "\n",
        "print(f\"\\n📊 Summary: {len([db for db in database_info.values() if db['status'] == 'accessible'])}/{len(databases)} databases accessible\")"
      ]
    },
    {
      "cell_type": "markdown",
      "id": "9b7f53b8",
      "metadata": {
        "id": "9b7f53b8"
      },
      "source": [
        "---\n",
        "\n",
        "## 3. Sample Data Preparation for API Processing\n",
        "\n",
        "### 3.1 Data Acquisition and API Input Preparation\n",
        "\n",
        "The Python API allows for flexible data input methods, including direct string input, file paths, and programmatic data generation."
      ]
    },
    {
      "cell_type": "code",
      "execution_count": 19,
      "id": "27e50dd7",
      "metadata": {
        "colab": {
          "base_uri": "https://localhost:8080/"
        },
        "id": "27e50dd7",
        "outputId": "8eebeac4-2448-42c7-b40f-aa45fecfcfe9"
      },
      "outputs": [
        {
          "output_type": "stream",
          "name": "stdout",
          "text": [
            "✅ Sample data downloaded successfully\n",
            "📁 Saved to: api_results/sample_data.txt\n",
            "\n",
            "📊 Sample data preview (23653 total lines):\n",
            "    1: >Acinetobacter Baumanii - acb\n",
            "    2: K01704\n",
            "    3: K10773\n",
            "    4: K14682\n",
            "    5: K07462\n",
            "    6: K03643\n",
            "    7: K00799\n",
            "    8: K03799\n",
            "    9: K00766\n",
            "   10: K00564\n",
            "   ... and 23643 more lines\n"
          ]
        }
      ],
      "source": [
        "# Method 1: Download sample data programmatically\n",
        "url = \"https://raw.githubusercontent.com/DougFelipe/biorempp/main/src/biorempp/data/sample_data.txt\"\n",
        "\n",
        "try:\n",
        "    response = requests.get(url, timeout=30)\n",
        "    response.raise_for_status()\n",
        "\n",
        "    # Save sample data for API processing\n",
        "    sample_data_path = PROCESSING_CONFIG['output_dir'] / \"sample_data.txt\"\n",
        "    sample_data_path.write_text(response.text, encoding=\"utf-8\")\n",
        "\n",
        "    print(\"✅ Sample data downloaded successfully\")\n",
        "    print(f\"📁 Saved to: {sample_data_path}\")\n",
        "\n",
        "    # Display sample content for verification\n",
        "    lines = response.text.splitlines()\n",
        "    print(f\"\\n📊 Sample data preview ({len(lines)} total lines):\")\n",
        "    for i, line in enumerate(lines[:10]):\n",
        "        print(f\"   {i+1:2d}: {line}\")\n",
        "    if len(lines) > 10:\n",
        "        print(f\"   ... and {len(lines)-10} more lines\")\n",
        "\n",
        "except Exception as e:\n",
        "    print(f\"❌ Error downloading sample data: {e}\")\n",
        "    # Fallback: create minimal sample data\n",
        "    sample_data = \"\"\">Sample_API_Demo\n",
        "K00001\n",
        "K00002\n",
        "K00003\n",
        "K00031\n",
        "K00032\n",
        ">Sample_API_Test\n",
        "K00090\n",
        "K00042\n",
        "K00052\"\"\"\n",
        "\n",
        "    sample_data_path = PROCESSING_CONFIG['output_dir'] / \"sample_data.txt\"\n",
        "    sample_data_path.write_text(sample_data, encoding=\"utf-8\")\n",
        "    print(\"✅ Fallback sample data created\")"
      ]
    },
    {
      "cell_type": "markdown",
      "id": "04911c3a",
      "metadata": {
        "id": "04911c3a"
      },
      "source": [
        "### 3.2 Input Data Analysis and Validation\n",
        "\n",
        "The API provides enhanced capabilities for data validation and preprocessing before analysis."
      ]
    },
    {
      "cell_type": "code",
      "execution_count": 12,
      "id": "5dab4964",
      "metadata": {
        "colab": {
          "base_uri": "https://localhost:8080/"
        },
        "id": "5dab4964",
        "outputId": "405c4be9-e4e4-4754-b04a-cf739d1c12c1"
      },
      "outputs": [
        {
          "output_type": "stream",
          "name": "stdout",
          "text": [
            "🔍 Input Data Analysis:\n",
            "========================================\n",
            "   total_lines: 23653\n",
            "   sample_count: 9\n",
            "   ko_count: 23644\n",
            "   unique_ko_count: 7702\n",
            "   sample_names: Acinetobacter Baumanii - acb, Aspergillus nidulans - ani, Chlorella variabilis - cvr...\n",
            "   file_size_bytes: 165758\n",
            "   validation_status: valid\n",
            "\n",
            "✅ Input validation: valid\n"
          ]
        }
      ],
      "source": [
        "# Analyze input data structure programmatically\n",
        "def analyze_input_data(file_path: Path) -> Dict[str, Any]:\n",
        "    \"\"\"Analyze input data structure for API processing.\"\"\"\n",
        "    try:\n",
        "        content = file_path.read_text(encoding='utf-8')\n",
        "        lines = content.strip().split('\\n')\n",
        "\n",
        "        # Count samples and KO identifiers\n",
        "        samples = [line for line in lines if line.startswith('>')]\n",
        "        ko_lines = [line for line in lines if not line.startswith('>') and line.strip()]\n",
        "\n",
        "        # Extract KO identifiers\n",
        "        ko_identifiers = []\n",
        "        for line in ko_lines:\n",
        "            if line.strip().startswith('K'):\n",
        "                ko_identifiers.append(line.strip())\n",
        "\n",
        "        analysis = {\n",
        "            'total_lines': len(lines),\n",
        "            'sample_count': len(samples),\n",
        "            'ko_count': len(ko_identifiers),\n",
        "            'unique_ko_count': len(set(ko_identifiers)),\n",
        "            'sample_names': [s[1:] for s in samples],  # Remove '>' prefix\n",
        "            'file_size_bytes': file_path.stat().st_size,\n",
        "            'validation_status': 'valid' if samples and ko_identifiers else 'invalid'\n",
        "        }\n",
        "\n",
        "        return analysis\n",
        "\n",
        "    except Exception as e:\n",
        "        return {'error': str(e), 'validation_status': 'error'}\n",
        "\n",
        "# Perform input analysis\n",
        "input_analysis = analyze_input_data(sample_data_path)\n",
        "\n",
        "print(\"🔍 Input Data Analysis:\")\n",
        "print(\"=\" * 40)\n",
        "if 'error' not in input_analysis:\n",
        "    for key, value in input_analysis.items():\n",
        "        if key == 'sample_names':\n",
        "            print(f\"   {key}: {', '.join(value[:3])}{'...' if len(value) > 3 else ''}\")\n",
        "        else:\n",
        "            print(f\"   {key}: {value}\")\n",
        "else:\n",
        "    print(f\"❌ Analysis error: {input_analysis['error']}\")\n",
        "\n",
        "print(f\"\\n✅ Input validation: {input_analysis.get('validation_status', 'unknown')}\")"
      ]
    },
    {
      "cell_type": "markdown",
      "id": "1501ec3d",
      "metadata": {
        "id": "1501ec3d"
      },
      "source": [
        "---\n",
        "\n",
        "## 4. Single Database Analysis via Python API\n",
        "\n",
        "### 4.1 BioRemPP Core Database API Processing\n",
        "\n",
        "The Python API provides direct access to processing pipelines with enhanced configurability and result handling."
      ]
    },
    {
      "cell_type": "code",
      "execution_count": 20,
      "id": "8bf85d9b",
      "metadata": {
        "colab": {
          "base_uri": "https://localhost:8080/"
        },
        "id": "8bf85d9b",
        "outputId": "f7390a5f-846e-41af-e8ed-cdb938f278c1"
      },
      "outputs": [
        {
          "output_type": "stream",
          "name": "stdout",
          "text": [
            "🧬 BioRemPP Core Database Analysis\n",
            "==================================================\n",
            "✅ BioRemPP processing completed successfully\n",
            "📊 Processing Results:\n",
            "   output_path: /content/api_results/BioRemPP_API_Results.txt\n",
            "   matches: 7613\n",
            "   filename: BioRemPP_API_Results.txt\n",
            "\n",
            "📈 Results DataFrame Shape: (7613, 9)\n",
            "📈 Columns: ['sample', 'ko', 'genesymbol', 'genename', 'cpd', 'compoundclass', 'referenceAG', 'compoundname', 'enzyme_activity']\n",
            "\n",
            "📋 Sample Results (first 3 rows):\n",
            "                      sample     ko genesymbol                   genename    cpd compoundclass referenceAG    compoundname enzyme_activity\n",
            "Acinetobacter Baumanii - acb K00799        GST glutathione S-transferase  C10928   Chlorinated         WFD        Alachlor     transferase\n",
            "Acinetobacter Baumanii - acb K00799        GST glutathione S-transferase  C14322   Chlorinated         WFD    Chlorpyrifos     transferase\n",
            "Acinetobacter Baumanii - acb K00799        GST glutathione S-transferase  C06790   Chlorinated      CONAMA Trichloroethene     transferase\n"
          ]
        }
      ],
      "source": [
        "# BioRemPP Core Database Analysis via API\n",
        "print(\"🧬 BioRemPP Core Database Analysis\")\n",
        "print(\"=\" * 50)\n",
        "\n",
        "try:\n",
        "    # Execute BioRemPP processing pipeline\n",
        "    biorempp_result = run_biorempp_processing_pipeline(\n",
        "        input_path=str(sample_data_path),\n",
        "        output_dir=str(PROCESSING_CONFIG['output_dir']),\n",
        "        output_filename=\"BioRemPP_API_Results.txt\",\n",
        "        sep=\";\",\n",
        "        add_timestamp=PROCESSING_CONFIG['add_timestamp'],\n",
        "        optimize_types=PROCESSING_CONFIG['optimize_types']\n",
        "    )\n",
        "\n",
        "    print(\"✅ BioRemPP processing completed successfully\")\n",
        "    print(f\"📊 Processing Results:\")\n",
        "    for key, value in biorempp_result.items():\n",
        "        if key == 'processing_time':\n",
        "            print(f\"   {key}: {value:.3f} seconds\")\n",
        "        elif key == 'file_size_mb':\n",
        "            print(f\"   {key}: {value:.2f} MB\")\n",
        "        else:\n",
        "            print(f\"   {key}: {value}\")\n",
        "\n",
        "    # Load and analyze results\n",
        "    if 'output_path' in biorempp_result:\n",
        "        biorempp_df = pd.read_csv(biorempp_result['output_path'], sep=';')\n",
        "        print(f\"\\n📈 Results DataFrame Shape: {biorempp_df.shape}\")\n",
        "        print(f\"📈 Columns: {list(biorempp_df.columns)}\")\n",
        "\n",
        "        # Display sample results\n",
        "        if not biorempp_df.empty:\n",
        "            print(\"\\n📋 Sample Results (first 3 rows):\")\n",
        "            print(biorempp_df.head(3).to_string(index=False))\n",
        "\n",
        "except Exception as e:\n",
        "    print(f\"❌ Error in BioRemPP processing: {e}\")\n",
        "    biorempp_result = None"
      ]
    },
    {
      "cell_type": "markdown",
      "id": "79e9d269",
      "metadata": {
        "id": "79e9d269"
      },
      "source": [
        "### 4.2 KEGG Database API Processing\n",
        "\n",
        "KEGG database analysis through the API provides enhanced pathway analysis capabilities with direct DataFrame access."
      ]
    },
    {
      "cell_type": "code",
      "execution_count": 21,
      "id": "2cc055ef",
      "metadata": {
        "colab": {
          "base_uri": "https://localhost:8080/"
        },
        "id": "2cc055ef",
        "outputId": "31140cce-f9cd-43b4-f541-e32bb614168d"
      },
      "outputs": [
        {
          "output_type": "stream",
          "name": "stdout",
          "text": [
            "🔬 KEGG Database Analysis\n",
            "==================================================\n",
            "✅ KEGG processing completed successfully\n",
            "📊 Processing Results:\n",
            "   output_path: /content/api_results/KEGG_API_Results.txt\n",
            "   matches: 731\n",
            "   filename: KEGG_API_Results.txt\n",
            "\n",
            "📈 Results DataFrame Shape: (731, 4)\n"
          ]
        }
      ],
      "source": [
        "# KEGG Database Analysis via API\n",
        "print(\"🔬 KEGG Database Analysis\")\n",
        "print(\"=\" * 50)\n",
        "\n",
        "try:\n",
        "    # Execute KEGG processing pipeline\n",
        "    kegg_result = run_kegg_processing_pipeline(\n",
        "        input_path=str(sample_data_path),\n",
        "        output_dir=str(PROCESSING_CONFIG['output_dir']),\n",
        "        output_filename=\"KEGG_API_Results.txt\",\n",
        "        sep=\";\",\n",
        "        add_timestamp=PROCESSING_CONFIG['add_timestamp'],\n",
        "        optimize_types=PROCESSING_CONFIG['optimize_types']\n",
        "    )\n",
        "\n",
        "    print(\"✅ KEGG processing completed successfully\")\n",
        "    print(f\"📊 Processing Results:\")\n",
        "    for key, value in kegg_result.items():\n",
        "        if key == 'processing_time':\n",
        "            print(f\"   {key}: {value:.3f} seconds\")\n",
        "        elif key == 'file_size_mb':\n",
        "            print(f\"   {key}: {value:.2f} MB\")\n",
        "        else:\n",
        "            print(f\"   {key}: {value}\")\n",
        "\n",
        "    # Load and analyze results\n",
        "    if 'output_path' in kegg_result:\n",
        "        kegg_df = pd.read_csv(kegg_result['output_path'], sep=';')\n",
        "        print(f\"\\n📈 Results DataFrame Shape: {kegg_df.shape}\")\n",
        "\n",
        "        # Pathway analysis\n",
        "        if not kegg_df.empty and 'pathway' in kegg_df.columns:\n",
        "            unique_pathways = kegg_df['pathway'].nunique()\n",
        "            print(f\"📈 Unique pathways identified: {unique_pathways}\")\n",
        "\n",
        "except Exception as e:\n",
        "    print(f\"❌ Error in KEGG processing: {e}\")\n",
        "    kegg_result = None"
      ]
    },
    {
      "cell_type": "markdown",
      "id": "99dc5004",
      "metadata": {
        "id": "99dc5004"
      },
      "source": [
        "### 4.3 HADEG Database API Processing\n",
        "\n",
        "HADEG database analysis focusing on hydrocarbon degradation capabilities through programmatic access."
      ]
    },
    {
      "cell_type": "code",
      "execution_count": 22,
      "id": "71a12273",
      "metadata": {
        "colab": {
          "base_uri": "https://localhost:8080/"
        },
        "id": "71a12273",
        "outputId": "03256618-8717-4eb7-cf48-1a44e7759a6a"
      },
      "outputs": [
        {
          "output_type": "stream",
          "name": "stdout",
          "text": [
            "⚗️ HADEG Database Analysis\n",
            "==================================================\n",
            "✅ HADEG processing completed successfully\n",
            "📊 Processing Results:\n",
            "   output_path: /content/api_results/HADEG_API_Results.txt\n",
            "   matches: 1737\n",
            "   filename: HADEG_API_Results.txt\n",
            "\n",
            "📈 Results DataFrame Shape: (1737, 5)\n",
            "📈 Hydrocarbon degradation analysis available\n"
          ]
        }
      ],
      "source": [
        "# HADEG Database Analysis via API\n",
        "print(\"⚗️ HADEG Database Analysis\")\n",
        "print(\"=\" * 50)\n",
        "\n",
        "try:\n",
        "    # Execute HADEG processing pipeline\n",
        "    hadeg_result = run_hadeg_processing_pipeline(\n",
        "        input_path=str(sample_data_path),\n",
        "        output_dir=str(PROCESSING_CONFIG['output_dir']),\n",
        "        output_filename=\"HADEG_API_Results.txt\",\n",
        "        sep=\";\",\n",
        "        add_timestamp=PROCESSING_CONFIG['add_timestamp'],\n",
        "        optimize_types=PROCESSING_CONFIG['optimize_types']\n",
        "    )\n",
        "\n",
        "    print(\"✅ HADEG processing completed successfully\")\n",
        "    print(f\"📊 Processing Results:\")\n",
        "    for key, value in hadeg_result.items():\n",
        "        if key == 'processing_time':\n",
        "            print(f\"   {key}: {value:.3f} seconds\")\n",
        "        elif key == 'file_size_mb':\n",
        "            print(f\"   {key}: {value:.2f} MB\")\n",
        "        else:\n",
        "            print(f\"   {key}: {value}\")\n",
        "\n",
        "    # Load and analyze results for hydrocarbon degradation patterns\n",
        "    if 'output_path' in hadeg_result:\n",
        "        hadeg_df = pd.read_csv(hadeg_result['output_path'], sep=';')\n",
        "        print(f\"\\n📈 Results DataFrame Shape: {hadeg_df.shape}\")\n",
        "\n",
        "        # Analyze degradation capabilities\n",
        "        if not hadeg_df.empty:\n",
        "            print(\"📈 Hydrocarbon degradation analysis available\")\n",
        "\n",
        "except Exception as e:\n",
        "    print(f\"❌ Error in HADEG processing: {e}\")\n",
        "    hadeg_result = None"
      ]
    },
    {
      "cell_type": "markdown",
      "id": "fd08fd0d",
      "metadata": {
        "id": "fd08fd0d"
      },
      "source": [
        "### 4.4 ToxCSM Database API Processing\n",
        "\n",
        "ToxCSM analysis for toxicity prediction through the Python API with enhanced safety assessment capabilities."
      ]
    },
    {
      "cell_type": "code",
      "execution_count": 23,
      "id": "9a5311a8",
      "metadata": {
        "colab": {
          "base_uri": "https://localhost:8080/"
        },
        "id": "9a5311a8",
        "outputId": "56209c22-37fa-4d7e-98f2-31c79f6a5d47"
      },
      "outputs": [
        {
          "output_type": "stream",
          "name": "stdout",
          "text": [
            "🧪 ToxCSM Database Analysis\n",
            "==================================================\n",
            "✅ ToxCSM processing completed successfully\n",
            "📊 Processing Results:\n",
            "   output_path: /content/api_results/ToxCSM_API_Results.txt\n",
            "   matches: 7624\n",
            "   filename: ToxCSM_API_Results.txt\n",
            "\n",
            "📈 Results DataFrame Shape: (7624, 73)\n",
            "📈 Toxicity prediction data available for safety assessment\n"
          ]
        }
      ],
      "source": [
        "# ToxCSM Database Analysis via API\n",
        "print(\"🧪 ToxCSM Database Analysis\")\n",
        "print(\"=\" * 50)\n",
        "\n",
        "try:\n",
        "    # Execute ToxCSM processing pipeline\n",
        "    toxcsm_result = run_toxcsm_processing_pipeline(\n",
        "        input_path=str(sample_data_path),\n",
        "        output_dir=str(PROCESSING_CONFIG['output_dir']),\n",
        "        output_filename=\"ToxCSM_API_Results.txt\",\n",
        "        sep=\";\",\n",
        "        add_timestamp=PROCESSING_CONFIG['add_timestamp'],\n",
        "        optimize_types=PROCESSING_CONFIG['optimize_types']\n",
        "    )\n",
        "\n",
        "    print(\"✅ ToxCSM processing completed successfully\")\n",
        "    print(f\"📊 Processing Results:\")\n",
        "    for key, value in toxcsm_result.items():\n",
        "        if key == 'processing_time':\n",
        "            print(f\"   {key}: {value:.3f} seconds\")\n",
        "        elif key == 'file_size_mb':\n",
        "            print(f\"   {key}: {value:.2f} MB\")\n",
        "        else:\n",
        "            print(f\"   {key}: {value}\")\n",
        "\n",
        "    # Load and analyze toxicity predictions\n",
        "    if 'output_path' in toxcsm_result:\n",
        "        toxcsm_df = pd.read_csv(toxcsm_result['output_path'], sep=';')\n",
        "        print(f\"\\n📈 Results DataFrame Shape: {toxcsm_df.shape}\")\n",
        "\n",
        "        # Toxicity analysis\n",
        "        if not toxcsm_df.empty:\n",
        "            print(\"📈 Toxicity prediction data available for safety assessment\")\n",
        "\n",
        "except Exception as e:\n",
        "    print(f\"❌ Error in ToxCSM processing: {e}\")\n",
        "    toxcsm_result = None"
      ]
    },
    {
      "cell_type": "markdown",
      "id": "76942765",
      "metadata": {
        "id": "76942765"
      },
      "source": [
        "---\n",
        "\n",
        "## 5. Comprehensive Multi-Database Analysis via API\n",
        "\n",
        "### 5.1 All-Database Integration\n",
        "\n",
        "The Python API's most powerful feature is the ability to process all databases simultaneously with enhanced result aggregation."
      ]
    },
    {
      "cell_type": "code",
      "execution_count": null,
      "id": "bcfeda93",
      "metadata": {
        "id": "bcfeda93"
      },
      "outputs": [],
      "source": [
        "# Comprehensive Multi-Database Analysis via API\n",
        "print(\"🔄 Comprehensive Multi-Database Analysis\")\n",
        "print(\"=\" * 60)\n",
        "\n",
        "try:\n",
        "    # Execute all processing pipelines simultaneously\n",
        "    all_results = run_all_processing_pipelines(\n",
        "        input_path=str(sample_data_path),\n",
        "        output_dir=str(PROCESSING_CONFIG['output_dir']),\n",
        "        optimize_types=PROCESSING_CONFIG['optimize_types']\n",
        "    )\n",
        "\n",
        "    print(\"✅ Multi-database processing completed successfully\")\n",
        "    print(f\"\\n📊 Comprehensive Results Summary:\")\n",
        "    print(\"=\" * 60)\n",
        "\n",
        "    # Aggregate statistics\n",
        "    total_matches = 0\n",
        "    total_processing_time = 0\n",
        "    database_status = {}\n",
        "\n",
        "    for database, result in all_results.items():\n",
        "        print(f\"\\n🔬 {database.upper()} Database:\")\n",
        "        if result.get('status') == 'success':\n",
        "            matches = result.get('matches', 0)\n",
        "            processing_time = result.get('processing_time', 0)\n",
        "            file_size = result.get('file_size_mb', 0)\n",
        "\n",
        "            total_matches += matches\n",
        "            total_processing_time += processing_time\n",
        "\n",
        "            print(f\"   ✅ Status: Success\")\n",
        "            print(f\"   📈 Matches: {matches:,}\")\n",
        "            print(f\"   ⏱️ Time: {processing_time:.3f}s\")\n",
        "            print(f\"   📁 Size: {file_size:.2f} MB\")\n",
        "            print(f\"   📄 Output: {result.get('filename', 'N/A')}\")\n",
        "\n",
        "            database_status[database] = 'success'\n",
        "        else:\n",
        "            print(f\"   ❌ Status: Error\")\n",
        "            print(f\"   🚨 Error: {result.get('error', 'Unknown error')}\")\n",
        "            database_status[database] = 'error'\n",
        "\n",
        "    # Overall summary\n",
        "    successful_databases = len([db for db in database_status.values() if db == 'success'])\n",
        "\n",
        "    print(f\"\\n📋 Overall Analysis Summary:\")\n",
        "    print(\"=\" * 40)\n",
        "    print(f\"   🏆 Successful databases: {successful_databases}/{len(all_results)}\")\n",
        "    print(f\"   📈 Total matches: {total_matches:,}\")\n",
        "    print(f\"   ⏱️ Total processing time: {total_processing_time:.3f}s\")\n",
        "    print(f\"   📊 Average matches per second: {total_matches/max(total_processing_time, 0.001):.0f}\")\n",
        "\n",
        "except Exception as e:\n",
        "    print(f\"❌ Error in multi-database processing: {e}\")\n",
        "    all_results = None"
      ]
    },
    {
      "cell_type": "markdown",
      "id": "9c23bdb7",
      "metadata": {
        "id": "9c23bdb7"
      },
      "source": [
        "---\n",
        "\n",
        "## 6. Advanced Data Analysis and Visualization\n",
        "\n",
        "### 6.1 Comparative Database Analysis\n",
        "\n",
        "The Python API enables sophisticated data analysis across multiple databases with pandas integration."
      ]
    },
    {
      "cell_type": "code",
      "execution_count": 24,
      "id": "ccec1b02",
      "metadata": {
        "colab": {
          "base_uri": "https://localhost:8080/"
        },
        "id": "ccec1b02",
        "outputId": "119b3761-6856-45d8-d87b-ee5f46294006"
      },
      "outputs": [
        {
          "output_type": "stream",
          "name": "stdout",
          "text": [
            "📊 Advanced Comparative Database Analysis\n",
            "==================================================\n",
            "✅ KEGG: 731 records loaded\n",
            "✅ BIOREMPP: 7613 records loaded\n",
            "✅ HADEG: 1737 records loaded\n",
            "✅ TOXCSM: 7624 records loaded\n",
            "\n",
            "📈 Comparative Analysis Summary:\n",
            "==================================================\n",
            "         total_records unique_ko_ids                                                                                                                                                                                                                                                                                                                                                                                                                                                                                                                                                                                                                                                                                                                                                                                                                                                                                                                                                                                                                                                                                                                                                                                                                                                                                                                                                                                                                                                              columns file_size_kb\n",
            "kegg               731             0                                                                                                                                                                                                                                                                                                                                                                                                                                                                                                                                                                                                                                                                                                                                                                                                                                                                                                                                                                                                                                                                                                                                                                                                                                                                                                                                                                                                                                   [sample, ko, pathname, genesymbol]     38.53125\n",
            "biorempp          7613             0                                                                                                                                                                                                                                                                                                                                                                                                                                                                                                                                                                                                                                                                                                                                                                                                                                                                                                                                                                                                                                                                                                                                                                                                                                                                                                                                                                   [sample, ko, genesymbol, genename, cpd, compoundclass, referenceAG, compoundname, enzyme_activity]   914.260742\n",
            "hadeg             1737             0                                                                                                                                                                                                                                                                                                                                                                                                                                                                                                                                                                                                                                                                                                                                                                                                                                                                                                                                                                                                                                                                                                                                                                                                                                                                                                                                                                                                                        [sample, ko, Gene, Pathway, compound_pathway]   107.849609\n",
            "toxcsm            7624             0  [sample, ko, genesymbol, genename, cpd, compoundclass, referenceAG, compoundname, enzyme_activity, SMILES, ChEBI, value_NR_AR, label_NR_AR, value_NR_AR_LBD, label_NR_AR_LBD, value_NR_AhR, label_NR_AhR, value_NR_Aromatase, label_NR_Aromatase, value_NR_ER, label_NR_ER, value_NR_ER_LBD, label_NR_ER_LBD, value_NR_PPAR_gamma, label_NR_PPAR_gamma, value_NR_GR, label_NR_GR, value_NR_TR, label_NR_TR, value_SR_ARE, label_SR_ARE, value_SR_ATAD5, label_SR_ATAD5, value_SR_HSE, label_SR_HSE, value_SR_MMP, label_SR_MMP, value_SR_p53, label_SR_p53, value_Gen_AMES_Mutagenesis, label_Gen_AMES_Mutagenesis, value_Gen_Carcinogenesis, label_Gen_Carcinogenesis, value_Gen_Micronucleus, label_Gen_Micronucleus, value_Env_Fathead_Minnow, label_Env_Fathead_Minnow, value_Env_T_Pyriformis, label_Env_T_Pyriformis, value_Env_Honey_Bee, label_Env_Honey_Bee, value_Env_Biodegradation, label_Env_Biodegradation, value_Env_Crustacean, label_Env_Crustacean, value_Env_Avian, label_Env_Avian, value_Org_Skin_Sensitisation, label_Org_Skin_Sensitisation, value_Org_hERG_I_Inhibitor, label_Org_hERG_I_Inhibitor, value_Org_hERG_II_Inhibitor, label_Org_hERG_II_Inhibitor, value_Org_Liver_Injury_I, label_Org_Liver_Injury_I, value_Org_Liver_Injury_II, label_Org_Liver_Injury_II, value_Org_Eye_Irritation, label_Org_Eye_Irritation, value_Org_Eye_Corrosion, label_Org_Eye_Corrosion, value_Org_Respiratory_Disease, label_Org_Respiratory_Disease]   5159.27832\n"
          ]
        }
      ],
      "source": [
        "# Advanced Comparative Analysis\n",
        "print(\"📊 Advanced Comparative Database Analysis\")\n",
        "print(\"=\" * 50)\n",
        "\n",
        "# Collect DataFrames from successful analyses\n",
        "available_dataframes = {}\n",
        "analysis_summary = {}\n",
        "\n",
        "# Load all available results\n",
        "result_files = list(PROCESSING_CONFIG['output_dir'].glob(\"*_API_Results.txt\"))\n",
        "\n",
        "for file_path in result_files:\n",
        "    try:\n",
        "        database_name = file_path.stem.replace(\"_API_Results\", \"\").lower()\n",
        "        df = pd.read_csv(file_path, sep=';')\n",
        "\n",
        "        if not df.empty:\n",
        "            available_dataframes[database_name] = df\n",
        "\n",
        "            # Generate analysis summary\n",
        "            analysis_summary[database_name] = {\n",
        "                'total_records': len(df),\n",
        "                'unique_ko_ids': df['KO_ID'].nunique() if 'KO_ID' in df.columns else 0,\n",
        "                'columns': list(df.columns),\n",
        "                'file_size_kb': file_path.stat().st_size / 1024\n",
        "            }\n",
        "\n",
        "            print(f\"✅ {database_name.upper()}: {len(df)} records loaded\")\n",
        "        else:\n",
        "            print(f\"⚠️ {database_name.upper()}: Empty dataset\")\n",
        "\n",
        "    except Exception as e:\n",
        "        print(f\"❌ Error loading {file_path.name}: {e}\")\n",
        "\n",
        "# Display comparative summary\n",
        "if analysis_summary:\n",
        "    print(f\"\\n📈 Comparative Analysis Summary:\")\n",
        "    print(\"=\" * 50)\n",
        "\n",
        "    comparison_df = pd.DataFrame(analysis_summary).T\n",
        "    print(comparison_df.to_string())\n",
        "\n",
        "    # Calculate overlap analysis if KO_ID columns exist\n",
        "    ko_sets = {}\n",
        "    for db_name, df in available_dataframes.items():\n",
        "        if 'KO_ID' in df.columns:\n",
        "            ko_sets[db_name] = set(df['KO_ID'].unique())\n",
        "\n",
        "    if len(ko_sets) > 1:\n",
        "        print(f\"\\n🔍 KO Identifier Overlap Analysis:\")\n",
        "        databases = list(ko_sets.keys())\n",
        "        for i, db1 in enumerate(databases):\n",
        "            for db2 in databases[i+1:]:\n",
        "                overlap = len(ko_sets[db1] & ko_sets[db2])\n",
        "                total_unique = len(ko_sets[db1] | ko_sets[db2])\n",
        "                overlap_pct = (overlap / total_unique * 100) if total_unique > 0 else 0\n",
        "                print(f\"   {db1.upper()} ∩ {db2.upper()}: {overlap} shared KOs ({overlap_pct:.1f}%)\")\n",
        "\n",
        "else:\n",
        "    print(\"⚠️ No data available for comparative analysis\")"
      ]
    },
    {
      "cell_type": "markdown",
      "id": "c6550c78",
      "metadata": {
        "id": "c6550c78"
      },
      "source": [
        "### 6.2 Results Visualization\n",
        "\n",
        "Enhanced visualization capabilities available through DataFrame integration with matplotlib and seaborn."
      ]
    },
    {
      "cell_type": "code",
      "execution_count": 29,
      "id": "07def61c",
      "metadata": {
        "colab": {
          "base_uri": "https://localhost:8080/",
          "height": 581
        },
        "id": "07def61c",
        "outputId": "757ba91f-a5a0-4d87-cb93-55d2e138c1af"
      },
      "outputs": [
        {
          "output_type": "stream",
          "name": "stdout",
          "text": [
            "📈 Results Visualization\n",
            "==============================\n"
          ]
        },
        {
          "output_type": "display_data",
          "data": {
            "text/plain": [
              "<Figure size 1500x500 with 2 Axes>"
            ],
            "image/png": "[encoded data removed]"
          },
          "metadata": {}
        },
        {
          "output_type": "stream",
          "name": "stdout",
          "text": [
            "✅ Visualization dashboard generated successfully\n",
            "📁 Summary statistics saved to: api_results/API_Analysis_Summary.csv\n"
          ]
        }
      ],
      "source": [
        "# Results Visualization\n",
        "print(\"📈 Results Visualization\")\n",
        "print(\"=\" * 30)\n",
        "\n",
        "if analysis_summary:\n",
        "    # Create visualization\n",
        "    fig, axes = plt.subplots(1, 2, figsize=(15, 5))  # Apenas duas colunas agora\n",
        "    fig.suptitle('BioRemPP API Analysis Results Dashboard', fontsize=16, fontweight='bold')\n",
        "\n",
        "    # 1. Database Record Counts\n",
        "    databases = list(analysis_summary.keys())\n",
        "    record_counts = [analysis_summary[db]['total_records'] for db in databases]\n",
        "\n",
        "    axes[0].bar(databases, record_counts, color=['#1f77b4', '#ff7f0e', '#2ca02c', '#d62728'][:len(databases)])\n",
        "    axes[0].set_title('Total Records per Database')\n",
        "    axes[0].set_ylabel('Number of Records')\n",
        "    axes[0].tick_params(axis='x', rotation=45)\n",
        "    axes[0].set_ylim(bottom=0)  # Garante que o eixo Y comece de zero\n",
        "\n",
        "    # 2. Unique KO Identifiers\n",
        "    ko_counts = [analysis_summary[db]['unique_ko_ids'] for db in databases]\n",
        "\n",
        "    axes[1].bar(databases, ko_counts, color=['#9467bd', '#8c564b', '#e377c2', '#7f7f7f'][:len(databases)])\n",
        "    axes[1].set_title('Unique KO Identifiers per Database')\n",
        "    axes[1].set_ylabel('Number of Unique KOs')\n",
        "    axes[1].tick_params(axis='x', rotation=45)\n",
        "    axes[1].set_ylim(bottom=0)  # Aqui está o ajuste solicitado\n",
        "\n",
        "    plt.tight_layout()\n",
        "    plt.show()\n",
        "\n",
        "    print(\"✅ Visualization dashboard generated successfully\")\n",
        "\n",
        "    # Save summary statistics\n",
        "    summary_stats = pd.DataFrame({\n",
        "        'Database': databases,\n",
        "        'Total_Records': record_counts,\n",
        "        'Unique_KO_IDs': ko_counts,\n",
        "    })\n",
        "\n",
        "    summary_path = PROCESSING_CONFIG['output_dir'] / \"API_Analysis_Summary.csv\"\n",
        "    summary_stats.to_csv(summary_path, index=False)\n",
        "    print(f\"📁 Summary statistics saved to: {summary_path}\")\n",
        "\n",
        "else:\n",
        "    print(\"⚠️ No data available for visualization\")\n"
      ]
    },
    {
      "cell_type": "markdown",
      "id": "855d9a80",
      "metadata": {
        "id": "855d9a80"
      },
      "source": [
        "---\n",
        "\n",
        "## 7. Advanced API Features and Error Handling\n",
        "\n",
        "### 7.1 Comprehensive Error Handling\n",
        "\n",
        "The Python API provides enhanced error handling capabilities for robust bioinformatics workflows."
      ]
    },
    {
      "cell_type": "code",
      "execution_count": 30,
      "id": "230ace96",
      "metadata": {
        "colab": {
          "base_uri": "https://localhost:8080/"
        },
        "id": "230ace96",
        "outputId": "7909ec04-ecad-4e5a-fe52-673a2d74a812"
      },
      "outputs": [
        {
          "output_type": "stream",
          "name": "stdout",
          "text": [
            "🛡️ Advanced Error Handling and Validation\n",
            "==================================================\n",
            "🔄 Executing BioRemPP pipeline...\n",
            "   ✅ BioRemPP: 7613 records processed\n",
            "🔄 Executing KEGG pipeline...\n",
            "   ✅ KEGG: 731 records processed\n",
            "🔄 Executing HADEG pipeline...\n",
            "   ✅ HADEG: 1737 records processed\n",
            "🔄 Executing ToxCSM pipeline...\n",
            "   ✅ ToxCSM: 7624 records processed\n",
            "\n",
            "📋 Robust Execution Summary:\n",
            "   ✅ Successful: 4/4 pipelines\n",
            "   🏆 Success rate: 100.0%\n"
          ]
        }
      ],
      "source": [
        "# Advanced Error Handling and Validation\n",
        "print(\"🛡️ Advanced Error Handling and Validation\")\n",
        "print(\"=\" * 50)\n",
        "\n",
        "def robust_pipeline_execution(pipeline_func, database_name: str, input_path: str, **kwargs):\n",
        "    \"\"\"\n",
        "    Execute pipeline with comprehensive error handling and validation.\n",
        "    \"\"\"\n",
        "    try:\n",
        "        print(f\"🔄 Executing {database_name} pipeline...\")\n",
        "\n",
        "        # Validate input file\n",
        "        if not Path(input_path).exists():\n",
        "            raise FileNotFoundError(f\"Input file not found: {input_path}\")\n",
        "\n",
        "        # Execute pipeline with timeout handling\n",
        "        result = pipeline_func(input_path=input_path, **kwargs)\n",
        "\n",
        "        # Validate results\n",
        "        if not result or 'output_path' not in result:\n",
        "            raise ValueError(f\"Invalid result structure from {database_name} pipeline\")\n",
        "\n",
        "        if not Path(result['output_path']).exists():\n",
        "            raise FileNotFoundError(f\"Output file not created: {result['output_path']}\")\n",
        "\n",
        "        # Verify output content\n",
        "        output_df = pd.read_csv(result['output_path'], sep=kwargs.get('sep', ';'))\n",
        "        if output_df.empty:\n",
        "            raise ValueError(f\"Empty output from {database_name} pipeline\")\n",
        "\n",
        "        result['validation_status'] = 'success'\n",
        "        result['output_records'] = len(output_df)\n",
        "\n",
        "        print(f\"   ✅ {database_name}: {result['output_records']} records processed\")\n",
        "        return result\n",
        "\n",
        "    except FileNotFoundError as e:\n",
        "        error_result = {'error_type': 'FileNotFoundError', 'error_message': str(e), 'validation_status': 'failed'}\n",
        "        print(f\"   📁 {database_name}: File error - {e}\")\n",
        "        return error_result\n",
        "\n",
        "    except ValueError as e:\n",
        "        error_result = {'error_type': 'ValueError', 'error_message': str(e), 'validation_status': 'failed'}\n",
        "        print(f\"   📊 {database_name}: Data error - {e}\")\n",
        "        return error_result\n",
        "\n",
        "    except Exception as e:\n",
        "        error_result = {'error_type': type(e).__name__, 'error_message': str(e), 'validation_status': 'failed'}\n",
        "        print(f\"   ❌ {database_name}: Unexpected error - {e}\")\n",
        "        return error_result\n",
        "\n",
        "# Demonstrate robust pipeline execution\n",
        "pipelines = [\n",
        "    (run_biorempp_processing_pipeline, \"BioRemPP\"),\n",
        "    (run_kegg_processing_pipeline, \"KEGG\"),\n",
        "    (run_hadeg_processing_pipeline, \"HADEG\"),\n",
        "    (run_toxcsm_processing_pipeline, \"ToxCSM\")\n",
        "]\n",
        "\n",
        "robust_results = {}\n",
        "for pipeline_func, db_name in pipelines:\n",
        "    robust_results[db_name.lower()] = robust_pipeline_execution(\n",
        "        pipeline_func=pipeline_func,\n",
        "        database_name=db_name,\n",
        "        input_path=str(sample_data_path),\n",
        "        output_dir=str(PROCESSING_CONFIG['output_dir']),\n",
        "        output_filename=f\"Robust_{db_name}_Results.txt\",\n",
        "        sep=\";\",\n",
        "        add_timestamp=True,\n",
        "        optimize_types=True\n",
        "    )\n",
        "\n",
        "# Summary of robust execution\n",
        "successful_pipelines = [db for db, result in robust_results.items()\n",
        "                       if result.get('validation_status') == 'success']\n",
        "\n",
        "print(f\"\\n📋 Robust Execution Summary:\")\n",
        "print(f\"   ✅ Successful: {len(successful_pipelines)}/{len(pipelines)} pipelines\")\n",
        "print(f\"   🏆 Success rate: {len(successful_pipelines)/len(pipelines)*100:.1f}%\")"
      ]
    },
    {
      "cell_type": "markdown",
      "id": "1c7d4f1c",
      "metadata": {
        "id": "1c7d4f1c"
      },
      "source": [
        "### 7.2 Performance Monitoring and Optimization\n",
        "\n",
        "The API provides built-in performance monitoring capabilities for optimization and resource management."
      ]
    },
    {
      "cell_type": "code",
      "execution_count": 31,
      "id": "cd1a013d",
      "metadata": {
        "colab": {
          "base_uri": "https://localhost:8080/"
        },
        "id": "cd1a013d",
        "outputId": "c80f90bd-7741-41fd-9eea-a432e6c9e8f2"
      },
      "outputs": [
        {
          "output_type": "stream",
          "name": "stdout",
          "text": [
            "⚡ Performance Monitoring and Optimization\n",
            "==================================================\n",
            "🔍 Monitoring BioRemPP pipeline performance...\n",
            "📊 Performance Metrics:\n",
            "==============================\n",
            "   ⏱️ Execution time: 0.124 seconds\n",
            "   🧠 Initial memory: 303.6 MB\n",
            "   🧠 Final memory: 305.4 MB\n",
            "   📈 Memory delta: +1.8 MB\n",
            "   🏔️ Peak memory: 305.4 MB\n",
            "🚀 Processing throughput: 61456 matches/second\n",
            "\n",
            "✅ Performance analysis completed\n"
          ]
        }
      ],
      "source": [
        "# Performance Monitoring and Optimization Analysis\n",
        "print(\"Performance Monitoring and Optimization\")\n",
        "print(\"=\" * 50)\n",
        "\n",
        "import time\n",
        "import psutil\n",
        "import os\n",
        "\n",
        "def monitor_performance(func, *args, **kwargs):\n",
        "    \"\"\"Monitor memory and CPU usage during pipeline execution.\"\"\"\n",
        "\n",
        "    # Get initial system metrics\n",
        "    process = psutil.Process(os.getpid())\n",
        "    initial_memory = process.memory_info().rss / 1024 / 1024  # MB\n",
        "    initial_cpu_percent = process.cpu_percent()\n",
        "\n",
        "    start_time = time.time()\n",
        "\n",
        "    try:\n",
        "        # Execute function\n",
        "        result = func(*args, **kwargs)\n",
        "\n",
        "        # Get final metrics\n",
        "        execution_time = time.time() - start_time\n",
        "        final_memory = process.memory_info().rss / 1024 / 1024  # MB\n",
        "        memory_delta = final_memory - initial_memory\n",
        "\n",
        "        # Add performance metrics to result\n",
        "        if isinstance(result, dict):\n",
        "            result.update({\n",
        "                'performance_metrics': {\n",
        "                    'execution_time': execution_time,\n",
        "                    'initial_memory_mb': initial_memory,\n",
        "                    'final_memory_mb': final_memory,\n",
        "                    'memory_delta_mb': memory_delta,\n",
        "                    'peak_memory_used': max(initial_memory, final_memory)\n",
        "                }\n",
        "            })\n",
        "\n",
        "        return result\n",
        "\n",
        "    except Exception as e:\n",
        "        execution_time = time.time() - start_time\n",
        "        return {\n",
        "            'error': str(e),\n",
        "            'performance_metrics': {\n",
        "                'execution_time': execution_time,\n",
        "                'initial_memory_mb': initial_memory,\n",
        "                'error_occurred': True\n",
        "            }\n",
        "        }\n",
        "\n",
        "# Monitor performance of BioRemPP pipeline\n",
        "print(\"🔍 Monitoring BioRemPP pipeline performance...\")\n",
        "\n",
        "monitored_result = monitor_performance(\n",
        "    run_biorempp_processing_pipeline,\n",
        "    input_path=str(sample_data_path),\n",
        "    output_dir=str(PROCESSING_CONFIG['output_dir']),\n",
        "    output_filename=\"Performance_Test_Results.txt\",\n",
        "    sep=\";\",\n",
        "    optimize_types=True\n",
        ")\n",
        "\n",
        "# Display performance metrics\n",
        "if 'performance_metrics' in monitored_result:\n",
        "    metrics = monitored_result['performance_metrics']\n",
        "\n",
        "    print(\"📊 Performance Metrics:\")\n",
        "    print(\"=\" * 30)\n",
        "    print(f\"   ⏱️ Execution time: {metrics['execution_time']:.3f} seconds\")\n",
        "    print(f\"   🧠 Initial memory: {metrics['initial_memory_mb']:.1f} MB\")\n",
        "    print(f\"   🧠 Final memory: {metrics['final_memory_mb']:.1f} MB\")\n",
        "    print(f\"   📈 Memory delta: {metrics['memory_delta_mb']:+.1f} MB\")\n",
        "    print(f\"   🏔️ Peak memory: {metrics['peak_memory_used']:.1f} MB\")\n",
        "\n",
        "    # Performance recommendations\n",
        "    if metrics['memory_delta_mb'] > 100:\n",
        "        print(\"💡 Recommendation: Consider memory optimization for large datasets\")\n",
        "\n",
        "    if metrics['execution_time'] > 10:\n",
        "        print(\"💡 Recommendation: Consider parallel processing for better performance\")\n",
        "\n",
        "    if 'matches' in monitored_result:\n",
        "        throughput = monitored_result['matches'] / metrics['execution_time']\n",
        "        print(f\"🚀 Processing throughput: {throughput:.0f} matches/second\")\n",
        "\n",
        "else:\n",
        "    print(\"❌ Performance monitoring failed\")\n",
        "\n",
        "print(\"\\n✅ Performance analysis completed\")"
      ]
    },
    {
      "cell_type": "markdown",
      "id": "7c13f84a",
      "metadata": {
        "id": "7c13f84a"
      },
      "source": [
        "---\n",
        "\n",
        "## 8 Conclusion and Best Practices\n",
        "\n",
        "### 8.1 Benefits of using the **API** in research workflows\n",
        "\n",
        "* **Direct DataFrame access** enabling flexible manipulation and integration in pipelines.\n",
        "* **Improved error diagnostics** with rich exceptions suitable for automation.\n",
        "* **Performance and resource monitoring** to guide optimization decisions.\n",
        "* **Natural integration** with the scientific ecosystem (pandas, matplotlib/seaborn, stats).\n",
        "* **Programmatic configuration and parameterization** for reproducibility.\n",
        "* **Compatibility with advanced statistical analysis** (testing, modeling, inference).\n",
        "* **Custom visualizations and reporting** tailored to study objectives.\n",
        "* **Batch and automation support** for multi-sample, large-scale runs.\n",
        "\n",
        "> In this notebook, results were obtained **via API calls**, with explicit control of inputs, parameters, and outputs, keeping the analysis **reproducible and scriptable**.\n",
        "\n",
        "### 8.2 Best practices for API‑based routines\n",
        "\n",
        "* **Comprehensive error handling** on all pipeline calls (informative try/except).\n",
        "* **Validate inputs** (schema/columns, value ranges, missing data) before processing.\n",
        "* **Monitor memory** for large datasets; prefer *chunking/streaming* when applicable.\n",
        "* Use **`optimize_types=True`** (when available) for dtype downcasting and memory efficiency.\n",
        "* **Persist intermediate results** to support recovery and partial re‑runs.\n",
        "* **Enable structured logging** (levels/handlers) for production visibility and debugging.\n",
        "* **Apply batch processing** to standardize multi-sample executions and improve throughput.\n",
        "* **Schedule regular backups** of results and metadata for provenance and compliance.\n",
        "\n",
        "### 8.3 Capabilities demonstrated here *(via API)*\n",
        "\n",
        "* **Database** information and analyses.\n",
        "* **Input validation** and **error handling** aligned with notebook automation.\n",
        "* **Lightweight performance monitoring** during execution.\n",
        "* **Integration with statistical tooling** for post‑processing.\n",
        "* **Visualization** with matplotlib/seaborn.\n",
        "* **Pandas interoperability** for end‑to‑end pipelines.\n",
        "* **Parameterization and custom configuration** directly from the notebook.\n",
        "\n",
        "### 8.4 Project resources (reference)\n",
        "\n",
        "* **GitHub repository**: [https://github.com/DougFelipe/biorempp](https://github.com/DougFelipe/biorempp)\n",
        "* **Documentation**: [https://biorempp.readthedocs.io/](https://biorempp.readthedocs.io/)\n",
        "* **API reference**: functions and classes for programmatic use\n",
        "* **Issue tracking**: bug reports and feature requests welcome\n",
        "* **Testing**: test suite supporting reliability and contributions\n",
        "\n",
        "\n",
        "\n",
        "---\n",
        "\n",
        "**Acknowledgments** — The API‑centric approach benefits from community feedback and welcomes contributions that enhance reliability, interoperability, and scientific rigor.\n"
      ]
    }
  ],
  "metadata": {
    "language_info": {
      "name": "python"
    },
    "colab": {
      "provenance": []
    },
    "kernelspec": {
      "name": "python3",
      "display_name": "Python 3"
    }
  },
  "nbformat": 4,
  "nbformat_minor": 5
}
