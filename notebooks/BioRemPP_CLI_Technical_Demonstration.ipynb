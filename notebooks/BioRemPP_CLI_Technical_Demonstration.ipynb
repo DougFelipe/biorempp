{
 "cells": [
  {
   "cell_type": "markdown",
   "id": "8b0c9e45",
   "metadata": {},
   "source": [
    "# BioRemPP: Technical Demonstration of Command-Line Interface\n",
    "\n",
    "## Comprehensive Analysis Framework for Bioremediation Potential Assessment\n",
    "\n",
    "---\n",
    "\n",
    "### Abstract\n",
    "\n",
    "The **Bioremediation Potential Profile (BioRemPP)** represents a state-of-the-art computational framework designed for systematic analysis of biotechnological potential in microbial, fungal, and plant genomes for environmental remediation applications. This technical demonstration provides comprehensive coverage of the command-line interface (CLI) functionality, showcasing the integration of multiple specialized databases and advanced analytical workflows.\n",
    "\n",
    "### Scientific Context\n",
    "\n",
    "Environmental contamination poses significant challenges to ecosystem health and human welfare. Bioremediation—the use of biological systems to remove or neutralize pollutants—has emerged as a sustainable and cost-effective approach for environmental restoration. However, the identification and characterization of organisms with bioremediation potential requires sophisticated computational tools capable of integrating diverse biological databases and analytical methodologies.\n",
    "\n",
    "BioRemPP addresses this need by providing:\n",
    "\n",
    "1. **Multi-Database Integration**: Seamless access to BioRemPP core database, KEGG (Kyoto Encyclopedia of Genes and Genomes), HADEG (Heavy metal-Associated Domain-containing protein Ecological Gene database), and ToxCSM (Toxicity prediction using Chemical Structure Mining)\n",
    "\n",
    "2. **Standardized Analytical Workflows**: Consistent processing pipelines with robust error handling and comprehensive validation\n",
    "\n",
    "3. **Scalable Architecture**: Optimized for both individual sequence analysis and large-scale genomic datasets\n",
    "\n",
    "4. **Professional CLI Interface**: Command-line tools designed for integration into bioinformatics pipelines and automated workflows\n",
    "\n",
    "### Methodology Overview\n",
    "\n",
    "This demonstration follows established computational biology protocols and showcases:\n",
    "- Installation and environment setup procedures\n",
    "- Database accessibility and information retrieval\n",
    "- Single and multi-database analytical workflows\n",
    "- Output interpretation and downstream analysis considerations\n",
    "\n",
    "---"
   ]
  },
  {
   "cell_type": "markdown",
   "id": "9bcbb8d9",
   "metadata": {},
   "source": [
    "## 1. Installation and Environment Setup\n",
    "\n",
    "### 1.1 Package Installation\n",
    "\n",
    "BioRemPP is distributed through the Python Package Index (PyPI) and can be installed using standard Python package management tools. For this demonstration, we utilize the test PyPI repository to access the latest development version."
   ]
  },
  {
   "cell_type": "code",
   "execution_count": null,
   "id": "30177c00",
   "metadata": {},
   "outputs": [],
   "source": [
    "# Install BioRemPP from test PyPI repository\n",
    "# The --extra-index-url ensures access to all required dependencies\n",
    "!pip install --index-url https://test.pypi.org/simple/ --extra-index-url https://pypi.org/simple/ biorempp"
   ]
  },
  {
   "cell_type": "markdown",
   "id": "5a28f51d",
   "metadata": {},
   "source": [
    "### 1.2 Installation Verification\n",
    "\n",
    "Following installation, we verify the package accessibility and version information to ensure proper setup."
   ]
  },
  {
   "cell_type": "code",
   "execution_count": null,
   "id": "15622f82",
   "metadata": {},
   "outputs": [],
   "source": [
    "# Verify BioRemPP installation and display version information\n",
    "import biorempp\n",
    "print(f\"BioRemPP version: {biorempp.__version__}\")\n",
    "print(f\"Installation path: {biorempp.__file__}\")\n",
    "print(\"✅ Installation verified successfully\")"
   ]
  },
  {
   "cell_type": "markdown",
   "id": "cf56181f",
   "metadata": {},
   "source": [
    "### 1.3 Environment Configuration\n",
    "\n",
    "The CLI interface can be accessed through the `biorempp` command. We begin by examining the help system to understand available functionality."
   ]
  },
  {
   "cell_type": "markdown",
   "id": "0ce066c7",
   "metadata": {},
   "source": [
    "---\n",
    "\n",
    "## 2. Command-Line Interface Overview\n",
    "\n",
    "### 2.1 Primary Help System\n",
    "\n",
    "The BioRemPP CLI implements a comprehensive help system providing detailed information about available commands, parameters, and usage patterns. This follows established conventions for scientific software interfaces."
   ]
  },
  {
   "cell_type": "code",
   "execution_count": null,
   "id": "7eced287",
   "metadata": {},
   "outputs": [],
   "source": [
    "# Display primary help information\n",
    "# This provides an overview of all available commands and global options\n",
    "!biorempp --help"
   ]
  },
  {
   "cell_type": "markdown",
   "id": "2dde84be",
   "metadata": {},
   "source": [
    "### 2.2 Command Structure Analysis\n",
    "\n",
    "The CLI follows a hierarchical command structure with the following primary operations:\n",
    "\n",
    "- **`info`**: Database information and system status\n",
    "- **`list-databases`**: Available database enumeration\n",
    "- **`merge`**: Core analytical functionality for sequence-database matching\n",
    "\n",
    "Each command implements specialized parameters and validation procedures appropriate for bioinformatics workflows."
   ]
  },
  {
   "cell_type": "markdown",
   "id": "74612816",
   "metadata": {},
   "source": [
    "---\n",
    "\n",
    "## 3. Database Information and Discovery\n",
    "\n",
    "### 3.1 Available Database Enumeration\n",
    "\n",
    "BioRemPP integrates multiple specialized databases for comprehensive bioremediation analysis. The `list-databases` command provides systematic enumeration of available resources."
   ]
  },
  {
   "cell_type": "code",
   "execution_count": null,
   "id": "5fa8104c",
   "metadata": {},
   "outputs": [],
   "source": [
    "# Enumerate all available databases\n",
    "# This command provides essential metadata for experimental design\n",
    "!biorempp list-databases"
   ]
  },
  {
   "cell_type": "markdown",
   "id": "3a7fe6a5",
   "metadata": {},
   "source": [
    "### 3.2 Detailed Database Information\n",
    "\n",
    "The `info` command provides comprehensive metadata about each database, including:\n",
    "- Record counts and data structure\n",
    "- Content specifications and quality metrics\n",
    "- Recommended usage patterns and limitations\n",
    "- Version information and last update timestamps"
   ]
  },
  {
   "cell_type": "code",
   "execution_count": null,
   "id": "95a9e3d9",
   "metadata": {},
   "outputs": [],
   "source": [
    "# Display comprehensive system and database information\n",
    "# This includes statistical summaries and technical specifications\n",
    "!biorempp info"
   ]
  },
  {
   "cell_type": "markdown",
   "id": "22482081",
   "metadata": {},
   "source": [
    "### 3.3 Database-Specific Information\n",
    "\n",
    "For targeted analysis, individual database information can be retrieved using specific identifiers. This is particularly useful for experimental planning and method selection."
   ]
  },
  {
   "cell_type": "code",
   "execution_count": null,
   "id": "d85a98ea",
   "metadata": {},
   "outputs": [],
   "source": [
    "# Retrieve specific information about the BioRemPP core database\n",
    "!biorempp info --database biorempp"
   ]
  },
  {
   "cell_type": "code",
   "execution_count": null,
   "id": "1ba487e8",
   "metadata": {},
   "outputs": [],
   "source": [
    "# Examine KEGG database specifications\n",
    "!biorempp info --database kegg"
   ]
  },
  {
   "cell_type": "markdown",
   "id": "ecf34703",
   "metadata": {},
   "source": [
    "---\n",
    "\n",
    "## 4. Sample Data Preparation\n",
    "\n",
    "### 4.1 Input Data Requirements\n",
    "\n",
    "BioRemPP accepts input data in FASTA-like format with KO (KEGG Orthology) identifiers. For this demonstration, we create representative sample data that reflects typical genomic annotation outputs."
   ]
  },
  {
   "cell_type": "code",
   "execution_count": null,
   "id": "ad948076",
   "metadata": {},
   "outputs": [],
   "source": [
    "# Create sample input data for demonstration\n",
    "# This represents typical output from genomic annotation pipelines\n",
    "sample_data = \"\"\">sequence_001 K00001\n",
    "MTHQNLVQVGDGAVLGFLDAAGIDKSEYVEFVADFNKDPDDPLSRVLLADFLRDTVAAKAGIRHTTDEI\n",
    ">sequence_002 K00002  \n",
    "MLSRNTQVGQNLVEYFGKRPATIDDLDPATLQRALQALGVDRVLVFGDGTNDAILIDHYANTQIGDKLA\n",
    ">sequence_003 K00003\n",
    "MFDKQYPIHFVNTDQRTVFQQLKGVNQTDEGLFQYADRVLMLDGSVNDPEMYQHFANLQIGKWLA\n",
    ">sequence_004 K00626\n",
    "MGKLHYIPGLAADKQYLEFYGKRPKTEADDIQQATLQRALQALEVDRVHVFSDGTNDAILIDHYANTQIGDKLA\n",
    ">sequence_005 K01915\n",
    "MTQNLVQVGDGAVLGFLDAAGIDKSEYVEFVADFNKDPDDPLSRVLLADFLRDTGAAKAGIRHTTDEI\"\"\"\n",
    "\n",
    "# Write sample data to file\n",
    "with open('sample_input.txt', 'w') as f:\n",
    "    f.write(sample_data)\n",
    "\n",
    "print(\"Sample input data created successfully\")\n",
    "print(\"File contains 5 sequences with representative KO identifiers\")\n",
    "\n",
    "# Display the created file content for verification\n",
    "!head -10 sample_input.txt"
   ]
  },
  {
   "cell_type": "markdown",
   "id": "763c4cd2",
   "metadata": {},
   "source": [
    "### 4.2 Input Data Validation\n",
    "\n",
    "BioRemPP implements comprehensive input validation to ensure data quality and format compliance. This includes:\n",
    "- FASTA format verification\n",
    "- KO identifier validation\n",
    "- Character encoding verification\n",
    "- File accessibility checks"
   ]
  },
  {
   "cell_type": "markdown",
   "id": "b5678966",
   "metadata": {},
   "source": [
    "---\n",
    "\n",
    "## 5. Single Database Analysis\n",
    "\n",
    "### 5.1 BioRemPP Core Database Analysis\n",
    "\n",
    "Single database analysis allows for focused investigation using specific knowledge bases. This approach is recommended when targeting particular aspects of bioremediation potential."
   ]
  },
  {
   "cell_type": "code",
   "execution_count": null,
   "id": "28c7bccb",
   "metadata": {},
   "outputs": [],
   "source": [
    "# Analyze sample data against BioRemPP core database\n",
    "# This demonstrates targeted bioremediation potential assessment\n",
    "!biorempp merge --input sample_input.txt --database biorempp --output biorempp_results"
   ]
  },
  {
   "cell_type": "markdown",
   "id": "12bac12f",
   "metadata": {},
   "source": [
    "### 5.2 KEGG Database Analysis\n",
    "\n",
    "KEGG database analysis provides pathway-level information essential for understanding metabolic capabilities and bioremediation mechanisms."
   ]
  },
  {
   "cell_type": "code",
   "execution_count": null,
   "id": "2145f619",
   "metadata": {},
   "outputs": [],
   "source": [
    "# Perform KEGG database analysis\n",
    "# This provides metabolic pathway and functional annotation information\n",
    "!biorempp merge --input sample_input.txt --database kegg --output kegg_results"
   ]
  },
  {
   "cell_type": "markdown",
   "id": "7c884fa6",
   "metadata": {},
   "source": [
    "### 5.3 HADEG Database Analysis\n",
    "\n",
    "HADEG (Heavy metal-Associated Domain-containing protein Ecological Gene) analysis focuses on heavy metal resistance and remediation capabilities."
   ]
  },
  {
   "cell_type": "code",
   "execution_count": null,
   "id": "9140f1d5",
   "metadata": {},
   "outputs": [],
   "source": [
    "# Analyze against HADEG database for heavy metal remediation potential\n",
    "!biorempp merge --input sample_input.txt --database hadeg --output hadeg_results"
   ]
  },
  {
   "cell_type": "markdown",
   "id": "5fcc93fb",
   "metadata": {},
   "source": [
    "### 5.4 ToxCSM Database Analysis\n",
    "\n",
    "ToxCSM analysis provides toxicity prediction capabilities essential for safety assessment in bioremediation applications."
   ]
  },
  {
   "cell_type": "code",
   "execution_count": null,
   "id": "2d15d07c",
   "metadata": {},
   "outputs": [],
   "source": [
    "# Perform ToxCSM analysis for toxicity assessment\n",
    "!biorempp merge --input sample_input.txt --database toxcsm --output toxcsm_results"
   ]
  },
  {
   "cell_type": "markdown",
   "id": "3119b53d",
   "metadata": {},
   "source": [
    "---\n",
    "\n",
    "## 6. Comprehensive Multi-Database Analysis\n",
    "\n",
    "### 6.1 All-Database Integration\n",
    "\n",
    "Comprehensive analysis utilizing all available databases provides the most complete assessment of bioremediation potential. This approach is recommended for systematic screening and comparative studies."
   ]
  },
  {
   "cell_type": "code",
   "execution_count": null,
   "id": "da92958a",
   "metadata": {},
   "outputs": [],
   "source": [
    "# Perform comprehensive analysis across all databases\n",
    "# This provides the most complete bioremediation potential assessment\n",
    "!biorempp merge --input sample_input.txt --all-databases --output comprehensive_results"
   ]
  },
  {
   "cell_type": "markdown",
   "id": "d54623a0",
   "metadata": {},
   "source": [
    "### 6.2 Advanced Output Options\n",
    "\n",
    "BioRemPP supports various output formats and verbosity levels to accommodate different analytical workflows and downstream processing requirements."
   ]
  },
  {
   "cell_type": "code",
   "execution_count": null,
   "id": "c49f56b6",
   "metadata": {},
   "outputs": [],
   "source": [
    "# Demonstrate detailed output with custom formatting\n",
    "!biorempp merge --input sample_input.txt --all-databases --output detailed_results --verbose"
   ]
  },
  {
   "cell_type": "markdown",
   "id": "06083081",
   "metadata": {},
   "source": [
    "---\n",
    "\n",
    "## 7. Output Analysis and Interpretation\n",
    "\n",
    "### 7.1 Result File Examination\n",
    "\n",
    "BioRemPP generates structured output files containing detailed matching information and analytical results. Each output file includes comprehensive metadata and statistical summaries."
   ]
  },
  {
   "cell_type": "code",
   "execution_count": null,
   "id": "1a3b0072",
   "metadata": {},
   "outputs": [],
   "source": [
    "# Examine the structure of generated output files\n",
    "import os\n",
    "import glob\n",
    "\n",
    "# List all generated output files\n",
    "output_files = glob.glob('*_results*')\n",
    "print(\"Generated output files:\")\n",
    "for file in sorted(output_files):\n",
    "    size = os.path.getsize(file)\n",
    "    print(f\"  {file} ({size} bytes)\")\n",
    "\n",
    "print(\"\\n\" + \"=\"*50)\n",
    "print(\"Output files successfully generated\")\n",
    "print(\"Ready for downstream analysis and interpretation\")"
   ]
  },
  {
   "cell_type": "markdown",
   "id": "057f7744",
   "metadata": {},
   "source": [
    "### 7.2 Sample Output Content Analysis\n",
    "\n",
    "To demonstrate the analytical value of BioRemPP output, we examine representative results from our comprehensive analysis."
   ]
  },
  {
   "cell_type": "code",
   "execution_count": null,
   "id": "47c93f57",
   "metadata": {},
   "outputs": [],
   "source": [
    "# Display sample output content for interpretation\n",
    "if os.path.exists('comprehensive_results'):\n",
    "    print(\"Sample output from comprehensive analysis:\")\n",
    "    print(\"=\" * 50)\n",
    "    !head -20 comprehensive_results\n",
    "else:\n",
    "    print(\"Output files not found. Please ensure the merge commands were executed successfully.\")"
   ]
  },
  {
   "cell_type": "markdown",
   "id": "8b9129ca",
   "metadata": {},
   "source": [
    "---\n",
    "\n",
    "## 8. Advanced Usage Patterns\n",
    "\n",
    "### 8.1 Help System for Specific Commands\n",
    "\n",
    "Each BioRemPP command implements comprehensive help documentation accessible through the `--help` flag. This provides detailed parameter descriptions and usage examples."
   ]
  },
  {
   "cell_type": "code",
   "execution_count": null,
   "id": "8a96c8c0",
   "metadata": {},
   "outputs": [],
   "source": [
    "# Display detailed help for the merge command\n",
    "!biorempp merge --help"
   ]
  },
  {
   "cell_type": "markdown",
   "id": "59819c5a",
   "metadata": {},
   "source": [
    "### 8.2 Error Handling and Validation\n",
    "\n",
    "BioRemPP implements comprehensive error handling and input validation to ensure robust operation in production environments."
   ]
  },
  {
   "cell_type": "code",
   "execution_count": null,
   "id": "3d978533",
   "metadata": {},
   "outputs": [],
   "source": [
    "# Demonstrate error handling with invalid input\n",
    "# This showcases the robustness of the validation system\n",
    "!biorempp merge --input nonexistent_file.txt --database biorempp 2>&1 || echo \"Error handling demonstrated successfully\""
   ]
  },
  {
   "cell_type": "markdown",
   "id": "170d30ad",
   "metadata": {},
   "source": [
    "---\n",
    "\n",
    "## 9. Integration with Bioinformatics Workflows\n",
    "\n",
    "### 9.1 Pipeline Integration Considerations\n",
    "\n",
    "BioRemPP is designed for seamless integration into existing bioinformatics pipelines. Key considerations include:\n",
    "\n",
    "- **Standardized Input Formats**: Compatible with common annotation pipeline outputs\n",
    "- **Structured Output**: Machine-readable formats suitable for downstream analysis\n",
    "- **Error Codes**: Appropriate exit codes for pipeline automation\n",
    "- **Performance Optimization**: Efficient processing for large-scale datasets\n",
    "\n",
    "### 9.2 Reproducibility and Documentation\n",
    "\n",
    "Scientific reproducibility requires comprehensive documentation of analytical parameters and software versions. BioRemPP supports this through:\n",
    "\n",
    "- Detailed logging capabilities\n",
    "- Version tracking and metadata inclusion\n",
    "- Parameter validation and documentation\n",
    "- Standardized output formats"
   ]
  },
  {
   "cell_type": "markdown",
   "id": "51d9ebaa",
   "metadata": {},
   "source": [
    "---\n",
    "\n",
    "## 10. Conclusion and Best Practices\n",
    "\n",
    "### 10.1 Summary of Demonstrated Capabilities\n",
    "\n",
    "This technical demonstration has showcased the comprehensive functionality of the BioRemPP command-line interface, including:\n",
    "\n",
    "1. **Installation and Setup**: Proper package installation and environment configuration\n",
    "2. **Information Discovery**: Database enumeration and detailed metadata retrieval\n",
    "3. **Single Database Analysis**: Targeted analysis using specific knowledge bases\n",
    "4. **Multi-Database Integration**: Comprehensive analysis across all available databases\n",
    "5. **Output Management**: Structured result generation and interpretation\n",
    "6. **Error Handling**: Robust validation and error management systems\n",
    "\n",
    "### 10.2 Recommended Workflows\n",
    "\n",
    "For optimal results in bioremediation potential assessment:\n",
    "\n",
    "1. **Exploratory Analysis**: Begin with `info` and `list-databases` commands\n",
    "2. **Targeted Investigation**: Use single database analysis for specific research questions\n",
    "3. **Comprehensive Assessment**: Apply multi-database analysis for complete evaluation\n",
    "4. **Quality Control**: Implement appropriate validation and verification procedures\n",
    "5. **Documentation**: Maintain comprehensive records of analytical parameters and results\n",
    "\n",
    "### 10.3 Future Directions\n",
    "\n",
    "BioRemPP represents a foundational tool for computational bioremediation analysis. Future developments may include:\n",
    "\n",
    "- Enhanced database integration and updates\n",
    "- Advanced statistical analysis capabilities\n",
    "- Machine learning-based prediction models\n",
    "- Extended output formats and visualization tools\n",
    "- Performance optimizations for large-scale genomic datasets\n",
    "\n",
    "### 10.4 Support and Documentation\n",
    "\n",
    "Comprehensive documentation, including API references, usage examples, and troubleshooting guides, is available through the BioRemPP documentation portal. The development team maintains active support channels for technical assistance and feature requests.\n",
    "\n",
    "---\n",
    "\n",
    "**Acknowledgments**: This demonstration was prepared following established standards for scientific software documentation and computational reproducibility. BioRemPP development follows open-source principles and welcomes community contributions to enhance capabilities and broaden applicability in environmental bioinformatics research."
   ]
  },
  {
   "cell_type": "markdown",
   "id": "1b2d97c4",
   "metadata": {},
   "source": [
    "---\n",
    "\n",
    "## Appendix: Technical Specifications\n",
    "\n",
    "### A.1 System Requirements\n",
    "- Python 3.8 or higher\n",
    "- Memory: Minimum 4GB RAM (8GB recommended for large datasets)\n",
    "- Storage: Variable depending on database size and output requirements\n",
    "\n",
    "### A.2 Dependencies\n",
    "- pandas ≥ 2.0.0\n",
    "- numpy ≥ 1.21.0\n",
    "- tqdm (progress indicators)\n",
    "- click (command-line interface)\n",
    "\n",
    "### A.3 Performance Considerations\n",
    "- Optimized for vectorized operations using pandas and numpy\n",
    "- Memory-efficient processing for large input files\n",
    "- Parallel processing capabilities for multi-database analysis\n",
    "\n",
    "### A.4 Troubleshooting\n",
    "Common issues and solutions:\n",
    "- **Installation errors**: Verify Python version and package manager configuration\n",
    "- **Input format issues**: Ensure FASTA-like format with proper KO identifiers\n",
    "- **Permission errors**: Verify file and directory access permissions\n",
    "- **Memory issues**: Consider processing smaller batches for very large datasets"
   ]
  }
 ],
 "metadata": {
  "language_info": {
   "name": "python"
  }
 },
 "nbformat": 4,
 "nbformat_minor": 5
}
