{
  "cells": [
    {
      "cell_type": "markdown",
      "id": "8b0c9e45",
      "metadata": {
        "id": "8b0c9e45"
      },
      "source": [
        "# BioRemPP: Technical Demonstration of Command-Line Interface\n",
        "\n",
        "## Comprehensive Analysis Framework for Bioremediation Potential Assessment via CLI\n",
        "\n",
        "---\n",
        "\n",
        "### Introduction\n",
        "\n",
        "The **Bioremediation Potential Profile (BioRemPP)** represents a state-of-the-art computational framework designed for systematic analysis of biotechnological potential in microbial, fungal, and plant for environmental remediation applications. This notebook provides comprehensive coverage of the command-line interface (CLI) functionality, showcasing the integration of multiple specialized databases and analytical workflows.\n",
        "\n",
        "### Scientific Context\n",
        "\n",
        "Environmental contamination poses significant challenges to ecosystem health and human welfare. Bioremediation — the use of biological systems to remove or neutralize pollutants has emerged as a sustainable and cost-effective approach for environmental restoration. However, the identification and characterization of organisms with bioremediation potential requires computational tools capable of integrating diverse biological databases and analytical methodologies.\n",
        "\n",
        "BioRemPP addresses this need by providing:\n",
        "\n",
        "1. **Multi-Database Integration**: Seamless access to BioRemPP core database, KEGG (Kyoto Encyclopedia of Genes and Genomes), HADEG (Heavy metal-Associated Domain-containing protein Ecological Gene database), and ToxCSM (Toxicity prediction using Chemical Structure Mining)\n",
        "\n",
        "2. **Standardized Analytical Workflows**: Consistent processing pipelines with error handling and comprehensive validation\n",
        "\n",
        "3. **Scalable Architecture**: Optimized for both individual sequence analysis and large-scale datasets\n",
        "\n",
        "4. **CLI Interface**: Command-line tools designed for integration into bioinformatics pipelines and automated workflows\n",
        "\n",
        "### Methodology Overview\n",
        "\n",
        "This demonstration follows established protocols and showcases:\n",
        "- Installation and environment setup procedures\n",
        "- Database accessibility and information retrieval\n",
        "- Single and multi-database analytical workflows\n",
        "- Output interpretation and downstream analysis considerations\n",
        "\n",
        "## Citation\n",
        "\n",
        "When using the BioRemPP API in academic research, please cite:\n",
        "\n",
        "```\n",
        "BioRemPP: Bioremediation Potential Profile — a computational framework\n",
        "for bioremediation analysis. Version {biorempp.__version__}\n",
        "```\n",
        "\n",
        "\n",
        "---"
      ]
    },
    {
      "cell_type": "markdown",
      "id": "9bcbb8d9",
      "metadata": {
        "id": "9bcbb8d9"
      },
      "source": [
        "## 1. Installation and Environment Setup\n",
        "\n",
        "### 1.1 Package Installation\n",
        "\n",
        "BioRemPP is distributed through the Python Package Index (PyPI) and can be installed using standard Python package management tools. For this demonstration, we utilize the test PyPI repository to access the latest development version."
      ]
    },
    {
      "cell_type": "code",
      "execution_count": 1,
      "id": "30177c00",
      "metadata": {
        "colab": {
          "base_uri": "https://localhost:8080/"
        },
        "id": "30177c00",
        "outputId": "97a42751-ea9a-42b7-a223-370eb2b13f9e"
      },
      "outputs": [
        {
          "output_type": "stream",
          "name": "stdout",
          "text": [
            "Looking in indexes: https://test.pypi.org/simple/, https://pypi.org/simple/\n",
            "Requirement already satisfied: biorempp==0.7.0.post1.dev2 in /usr/local/lib/python3.11/dist-packages (0.7.0.post1.dev2)\n",
            "Requirement already satisfied: pandas>=2.0.0 in /usr/local/lib/python3.11/dist-packages (from biorempp==0.7.0.post1.dev2) (2.2.2)\n",
            "Requirement already satisfied: numpy>=1.21.0 in /usr/local/lib/python3.11/dist-packages (from biorempp==0.7.0.post1.dev2) (2.0.2)\n",
            "Requirement already satisfied: tqdm in /usr/local/lib/python3.11/dist-packages (from biorempp==0.7.0.post1.dev2) (4.67.1)\n",
            "Requirement already satisfied: click in /usr/local/lib/python3.11/dist-packages (from biorempp==0.7.0.post1.dev2) (8.2.1)\n",
            "Requirement already satisfied: python-dateutil>=2.8.2 in /usr/local/lib/python3.11/dist-packages (from pandas>=2.0.0->biorempp==0.7.0.post1.dev2) (2.9.0.post0)\n",
            "Requirement already satisfied: pytz>=2020.1 in /usr/local/lib/python3.11/dist-packages (from pandas>=2.0.0->biorempp==0.7.0.post1.dev2) (2025.2)\n",
            "Requirement already satisfied: tzdata>=2022.7 in /usr/local/lib/python3.11/dist-packages (from pandas>=2.0.0->biorempp==0.7.0.post1.dev2) (2025.2)\n",
            "Requirement already satisfied: six>=1.5 in /usr/local/lib/python3.11/dist-packages (from python-dateutil>=2.8.2->pandas>=2.0.0->biorempp==0.7.0.post1.dev2) (1.17.0)\n"
          ]
        }
      ],
      "source": [
        "# Install BioRemPP from test PyPI repository\n",
        "# The --extra-index-url ensures access to all required dependencies\n",
        "!pip install --index-url https://test.pypi.org/simple/ --extra-index-url https://pypi.org/simple/ biorempp==0.7.0.post1.dev2"
      ]
    },
    {
      "cell_type": "markdown",
      "id": "5a28f51d",
      "metadata": {
        "id": "5a28f51d"
      },
      "source": [
        "### 1.2 Installation Verification\n",
        "\n",
        "Following installation, we verify the package accessibility and version information to ensure proper setup."
      ]
    },
    {
      "cell_type": "code",
      "execution_count": 2,
      "id": "15622f82",
      "metadata": {
        "colab": {
          "base_uri": "https://localhost:8080/"
        },
        "id": "15622f82",
        "outputId": "3fe76d31-857f-4e1a-c26e-c7a9a24ac56e"
      },
      "outputs": [
        {
          "output_type": "stream",
          "name": "stdout",
          "text": [
            "BioRemPP version: 0.7.0.post1.dev2\n",
            "Installation path: /usr/local/lib/python3.11/dist-packages/biorempp/__init__.py\n",
            "✅ Installation verified successfully\n"
          ]
        }
      ],
      "source": [
        "# Verify BioRemPP installation and display version information\n",
        "import biorempp\n",
        "print(f\"BioRemPP version: {biorempp.__version__}\")\n",
        "print(f\"Installation path: {biorempp.__file__}\")\n",
        "print(\"✅ Installation verified successfully\")"
      ]
    },
    {
      "cell_type": "markdown",
      "id": "cf56181f",
      "metadata": {
        "id": "cf56181f"
      },
      "source": [
        "### 1.3 Environment Configuration\n",
        "\n",
        "The CLI interface can be accessed through the `biorempp` command. We begin by examining the help system to understand available functionality."
      ]
    },
    {
      "cell_type": "markdown",
      "id": "0ce066c7",
      "metadata": {
        "id": "0ce066c7"
      },
      "source": [
        "---\n",
        "\n",
        "## 2. Command-Line Interface Overview\n",
        "\n",
        "### 2.1 Primary Help System\n",
        "\n",
        "The BioRemPP CLI implements a comprehensive help system providing detailed information about available commands, parameters, and usage patterns."
      ]
    },
    {
      "cell_type": "code",
      "execution_count": 3,
      "id": "7eced287",
      "metadata": {
        "colab": {
          "base_uri": "https://localhost:8080/"
        },
        "id": "7eced287",
        "outputId": "2b3d11bd-adaa-4969-fbe8-ca0051edda8e"
      },
      "outputs": [
        {
          "output_type": "stream",
          "name": "stdout",
          "text": [
            "usage: biorempp [-h] [--input INPUT] [--output-dir OUTPUT_DIR]\n",
            "                [--all-databases] [--database {biorempp,hadeg,kegg,toxcsm}]\n",
            "                [--list-databases]\n",
            "                [--database-info {biorempp,hadeg,kegg,toxcsm}]\n",
            "                [--quiet | --verbose | --debug]\n",
            "\n",
            "BioRemPP: Bioremediation Potential Profile\n",
            "\n",
            "options:\n",
            "  -h, --help            show this help message and exit\n",
            "  --input INPUT         Path to the input biological data file\n",
            "  --output-dir OUTPUT_DIR\n",
            "                        Directory for output files (default:\n",
            "                        outputs/results_tables)\n",
            "\n",
            "Database Options:\n",
            "  --all-databases       Merge input with ALL databases (biorempp, hadeg, kegg,\n",
            "                        toxcsm)\n",
            "  --database {biorempp,hadeg,kegg,toxcsm}\n",
            "                        Merge with specific database only\n",
            "\n",
            "Information Commands:\n",
            "  --list-databases      List all available databases\n",
            "  --database-info {biorempp,hadeg,kegg,toxcsm}\n",
            "                        Show detailed information about a specific database\n",
            "\n",
            "Verbosity Options:\n",
            "  --quiet, -q           Silent mode - no output except errors (default)\n",
            "  --verbose, -v         Verbose mode - detailed progress information\n",
            "  --debug               Debug mode - technical information and file logging\n"
          ]
        }
      ],
      "source": [
        "# Display primary help information\n",
        "# This provides an overview of all available commands and global options\n",
        "!biorempp --help"
      ]
    },
    {
      "cell_type": "markdown",
      "id": "2dde84be",
      "metadata": {
        "id": "2dde84be"
      },
      "source": [
        "### 2.2 Command Structure Analysis\n",
        "\n",
        "The CLI follows a hierarchical command structure with the following primary operations:\n",
        "\n",
        "- **`info`**: Database information and system status\n",
        "- **`list-databases`**: Available database enumeration\n",
        "- **`merge`**: Core analytical functionality for sequence-database matching\n",
        "\n",
        "Each command implements specialized parameters and validation procedures appropriate for bioinformatics workflows."
      ]
    },
    {
      "cell_type": "markdown",
      "id": "74612816",
      "metadata": {
        "id": "74612816"
      },
      "source": [
        "---\n",
        "\n",
        "## 3. Database Information and Discovery\n",
        "\n",
        "### 3.1 Available Database Enumeration\n",
        "\n",
        "BioRemPP integrates multiple specialized databases for comprehensive bioremediation analysis. The `list-databases` command provides systematic enumeration of available resources."
      ]
    },
    {
      "cell_type": "code",
      "execution_count": 5,
      "id": "5fa8104c",
      "metadata": {
        "colab": {
          "base_uri": "https://localhost:8080/"
        },
        "id": "5fa8104c",
        "outputId": "66011c6f-8dd7-486c-8a8c-541edb3c05c5"
      },
      "outputs": [
        {
          "output_type": "stream",
          "name": "stdout",
          "text": [
            "\n",
            "[DATABASES] Available Databases:\n",
            "======================================================================\n",
            "\n",
            "[DB] BIOREMPP\n",
            "   Name: BioRemPP Core Database\n",
            "   Description: Bioremediation Potential Profile Database (6,623 records)\n",
            "   File: database_biorempp.csv (0.69 MB)\n",
            "\n",
            "[DB] HADEG\n",
            "   Name: HADEG Database\n",
            "   Description: Hydrocarbon Aerobic Degradation Enzymes and Genes (1,168 records)\n",
            "   File: database_hadeg.csv (0.04 MB)\n",
            "\n",
            "[DB] KEGG\n",
            "   Name: KEGG Pathways\n",
            "   Description: 20 KEGG for xenobiotic biodegradation pathways (871 records)\n",
            "   File: kegg_degradation_pathways.csv (0.02 MB)\n",
            "\n",
            "[DB] TOXCSM\n",
            "   Name: ToxCSM Database\n",
            "   Description: Comprehensive Prediction of Small Molecule Toxicity Profiles (323 records, 66 endpoints)\n",
            "   File: database_toxcsm.csv (0.18 MB)\n",
            "\n",
            "[SAMPLE] Example Input Data:\n",
            "   File: sample_data.txt (0.18 MB)\n",
            "   Content: 10 organisms with 23,663 KO identifiers\n",
            "   Format: Organism headers (>) and KO entries\n",
            "\n",
            "[USAGE] Usage Examples:\n",
            "   biorempp --input sample_data.txt --all-databases\n",
            "   biorempp --input sample_data.txt --database biorempp\n",
            "   biorempp --database-info biorempp\n",
            "   biorempp --list-databases\n",
            "\n"
          ]
        }
      ],
      "source": [
        "# Enumerate all available databases\n",
        "# This command provides essential metadata for experimental design\n",
        "!biorempp --list-databases"
      ]
    },
    {
      "cell_type": "markdown",
      "id": "3a7fe6a5",
      "metadata": {
        "id": "3a7fe6a5"
      },
      "source": [
        "### 3.2 Detailed Database Information\n",
        "\n",
        "The `info` command provides comprehensive metadata about each database, including:\n",
        "- Record counts and data structure\n",
        "- Content specifications and quality metrics\n",
        "- Recommended usage\n"
      ]
    },
    {
      "cell_type": "markdown",
      "id": "22482081",
      "metadata": {
        "id": "22482081"
      },
      "source": [
        "### 3.3 Database-Specific Information\n",
        "\n",
        "For targeted analysis, individual database information can be retrieved using specific identifiers. This is particularly useful for experimental planning and method selection."
      ]
    },
    {
      "cell_type": "code",
      "execution_count": 8,
      "id": "d85a98ea",
      "metadata": {
        "colab": {
          "base_uri": "https://localhost:8080/"
        },
        "id": "d85a98ea",
        "outputId": "2d1ba046-d801-454f-810d-af3bdb4576f4"
      },
      "outputs": [
        {
          "output_type": "stream",
          "name": "stdout",
          "text": [
            "\n",
            " BioRemPP Core Database\n",
            "======================================================================\n",
            " Description: Bioremediation Potential Profile\n",
            " Size: 6,623 records (0.69 MB)\n",
            "[FORMAT] Format: CSV with semicolon separator\n",
            "\n",
            "🔍 Database Schema:\n",
            "    1. ko\n",
            "    2. genesymbol\n",
            "    3. genename\n",
            "    4. cpd\n",
            "    5. compoundclass\n",
            "    6. referenceAG\n",
            "    7. compoundname\n",
            "    8. enzyme_activity\n",
            "\n",
            "⭐ Key Features:\n",
            "   • 986 unique KEGG Orthology (KO) identifiers\n",
            "   • 323 unique compounds across 12 chemical classes\n",
            "   • 978 unique enzyme gene symbols\n",
            "   • 150 different enzyme activities\n",
            "\n",
            "🎯 Primary Usage:\n",
            "   Primary database for bioremediation analysis\n",
            "\n",
            "[USAGE] Usage Examples:\n",
            "   biorempp --input sample_data.txt --database biorempp\n",
            "   biorempp --input sample_data.txt --all-databases\n",
            "   biorempp --list-databases\n",
            "\n"
          ]
        }
      ],
      "source": [
        "# Retrieve specific information about the BioRemPP core database\n",
        "!biorempp --database-info biorempp"
      ]
    },
    {
      "cell_type": "code",
      "execution_count": 11,
      "id": "1ba487e8",
      "metadata": {
        "colab": {
          "base_uri": "https://localhost:8080/"
        },
        "id": "1ba487e8",
        "outputId": "46878fc2-37f2-49f1-852d-3cee4d3591be"
      },
      "outputs": [
        {
          "output_type": "stream",
          "name": "stdout",
          "text": [
            "\n",
            " KEGG Degradation Pathways\n",
            "======================================================================\n",
            " Description: KEGG-derived biodegradation pathway information\n",
            " Size: 871 records (0.02 MB)\n",
            "[FORMAT] Format: CSV with semicolon separator\n",
            "\n",
            "🔍 Database Schema:\n",
            "    1. ko\n",
            "    2. pathname\n",
            "    3. genesymbol\n",
            "\n",
            "⭐ Key Features:\n",
            "   • 517 unique KO identifiers\n",
            "   • 20 degradation pathways (Naphthalene, Aromatic, Toluene, etc.)\n",
            "   • 513 unique gene symbols\n",
            "   • Focus on xenobiotic degradation\n",
            "\n",
            "🎯 Primary Usage:\n",
            "   Pathway enrichment analysis and degradation route identification\n",
            "\n",
            "[USAGE] Usage Examples:\n",
            "   biorempp --input sample_data.txt --database kegg\n",
            "   biorempp --input sample_data.txt --all-databases\n",
            "   biorempp --list-databases\n",
            "\n"
          ]
        }
      ],
      "source": [
        "# Examine KEGG database specifications\n",
        "!biorempp --database-info kegg"
      ]
    },
    {
      "cell_type": "code",
      "source": [
        "# Examine HADEG database specifications\n",
        "!biorempp --database-info hadeg"
      ],
      "metadata": {
        "colab": {
          "base_uri": "https://localhost:8080/"
        },
        "id": "8EMlfuSND8-_",
        "outputId": "0e76fb80-1697-41c3-ec8d-5481c76235f9"
      },
      "id": "8EMlfuSND8-_",
      "execution_count": 12,
      "outputs": [
        {
          "output_type": "stream",
          "name": "stdout",
          "text": [
            "\n",
            " Hydrocarbon Aerobic Degradation Enzymes and Genes\n",
            "======================================================================\n",
            " Description: manually curated database containing sequences of experimentally validated\n",
            " Size: 1,168 records (0.04 MB)\n",
            "[FORMAT] Format: CSV with semicolon separator\n",
            "\n",
            "🔍 Database Schema:\n",
            "    1. Gene\n",
            "    2. ko\n",
            "    3. Pathway\n",
            "    4. compound_pathway\n",
            "\n",
            "⭐ Key Features:\n",
            "   • 323 unique genes involved in degradation\n",
            "   • 339 unique KO identifiers\n",
            "   • 71 distinct metabolic pathways\n",
            "   • 5 major compound pathway categories (Alkanes, Aromatics, etc.)\n",
            "\n",
            "🎯 Primary Usage:\n",
            "   Specific biodegradation pathway analysis and gene-pathway mapping\n",
            "\n",
            "[USAGE] Usage Examples:\n",
            "   biorempp --input sample_data.txt --database hadeg\n",
            "   biorempp --input sample_data.txt --all-databases\n",
            "   biorempp --list-databases\n",
            "\n"
          ]
        }
      ]
    },
    {
      "cell_type": "code",
      "source": [
        "# Examine ToxCSM database specifications\n",
        "!biorempp --database-info toxcsm"
      ],
      "metadata": {
        "colab": {
          "base_uri": "https://localhost:8080/"
        },
        "id": "pUoYLangD9V5",
        "outputId": "f2e2dce9-e96a-45cf-f8a3-ccb770e906de"
      },
      "id": "pUoYLangD9V5",
      "execution_count": 13,
      "outputs": [
        {
          "output_type": "stream",
          "name": "stdout",
          "text": [
            "\n",
            " ToxCSM Toxicity Database\n",
            "======================================================================\n",
            " Description: Comprehensive toxicity prediction database\n",
            " Size: 323 records (0.18 MB)\n",
            "[FORMAT] Format: CSV with semicolon separator\n",
            "\n",
            "🔍 Database Schema:\n",
            "    1. SMILES\n",
            "    2. cpd\n",
            "    3. ChEBI\n",
            "    4. compoundname\n",
            "    5. 66 toxicity endpoints\n",
            "    6. Nuclear receptor (NR_*), Stress response (SR_*), Genotoxicity (Gen_*)\n",
            "    7. Environmental (Env_*), Organ toxicity (Org_*) assessments\n",
            "\n",
            "⭐ Key Features:\n",
            "   • 314 unique SMILES molecular structures\n",
            "   • 66 toxicity endpoints with value/label pairs\n",
            "   • Multiple toxicity categories: Nuclear receptors, Stress response, Genotoxicity, Environmental, Organ-specific\n",
            "   • ChEBI identifiers for chemical standardization\n",
            "\n",
            "🎯 Primary Usage:\n",
            "   Comprehensive toxicity evaluation and safety assessment\n",
            "\n",
            "[USAGE] Usage Examples:\n",
            "   biorempp --input sample_data.txt --database toxcsm\n",
            "   biorempp --input sample_data.txt --all-databases\n",
            "   biorempp --list-databases\n",
            "\n"
          ]
        }
      ]
    },
    {
      "cell_type": "markdown",
      "id": "ecf34703",
      "metadata": {
        "id": "ecf34703"
      },
      "source": [
        "---\n",
        "\n",
        "## 4. Sample Data Preparation\n",
        "\n",
        "### 4.1 Input Data Requirements\n",
        "\n",
        "BioRemPP accepts input data in a FASTA-like header format with KO (KEGG Orthology) identifiers. For demonstration purposes, we first present a **mock example** that illustrates the expected structure:\n",
        "\n",
        "```\n",
        ">SampleX2\n",
        "K00031\n",
        "K00032\n",
        "K00090\n",
        "K00042\n",
        "K00052\n",
        ">SampleX2\n",
        "K00031\n",
        "K00032\n",
        "K00090\n",
        "K00042\n",
        "K00052\n",
        "```\n",
        "\n",
        "This simplified structure shows how each sample begins with a header (`>SampleX`) followed by KO identifiers.\n",
        "\n",
        "### 4.2 Real Demonstration Data\n",
        "\n",
        "For the actual demonstration, BioRemPP uses **9 representative samples** drawn from three principal groups relevant to bioremediation research: **Bacteria**, **Fungi**, and **Microalgae/Cyanobacteria**. These organisms were selected based on the genera reported in the article:\n",
        "\n",
        "*Bacteria, Fungi and Microalgae for the Bioremediation of Marine Sediments Contaminated by Petroleum Hydrocarbons in the Omics Era*\n",
        "*Microorganisms 2021, 9, 1695.* [https://doi.org/10.3390/microorganisms9081695](https://doi.org/10.3390/microorganisms9081695)\n",
        "\n",
        "### 4.3 Selected Organisms\n",
        "\n",
        "The dataset includes **three representatives from each group**, totaling 9 organisms:\n",
        "\n",
        "* **Bacteria**\n",
        "\n",
        "  * *Acinetobacter baumannii* — `acb`\n",
        "  * *Enterobacter asburiae* — `eau`\n",
        "  * *Pseudomonas aeruginosa* — `pae`\n",
        "\n",
        "* **Fungi**\n",
        "\n",
        "  * *Aspergillus nidulans* — `ani`\n",
        "  * *Fusarium graminearum* — `fgr`\n",
        "  * *Cryptococcus gattii* — `cgi`\n",
        "\n",
        "* **Microalgae/Cyanobacteria**\n",
        "\n",
        "  * *Chlorella variabilis* — `cvr`\n",
        "  * *Nannochloropsis gaditana* — `ngd`\n",
        "  * *Synechocystis sp.* — `syn`\n",
        "\n",
        "These organisms provide a biologically meaningful subset for testing, reflecting taxa that are actively studied in the context of petroleum hydrocarbon bioremediation.\n"
      ]
    },
    {
      "cell_type": "markdown",
      "id": "763c4cd2",
      "metadata": {
        "id": "763c4cd2"
      },
      "source": [
        "### 4.4 Input Data Validation\n",
        "\n",
        "BioRemPP implements comprehensive input validation to ensure data quality and format compliance. This includes:\n",
        "- Specifc format verification\n",
        "- KO identifier validation\n",
        "- Character encoding verification\n",
        "- File accessibility checks"
      ]
    },
    {
      "cell_type": "markdown",
      "source": [
        "### 4.5 Importing from the Repository\n",
        "\n",
        "The demonstration dataset is made directly available in the BioRemPP repository. Users can import it from:\n",
        "\n",
        "```\n",
        "https://raw.githubusercontent.com/DougFelipe/biorempp/main/src/biorempp/data/sample_data.txt\n",
        "```\n",
        "\n",
        "This allows users to load the same **9 representative samples** described above directly from the repository, ensuring reproducibility and consistency with the published demonstration.\n"
      ],
      "metadata": {
        "id": "rwO7_KvkLEiD"
      },
      "id": "rwO7_KvkLEiD"
    },
    {
      "cell_type": "code",
      "execution_count": 16,
      "id": "ad948076",
      "metadata": {
        "colab": {
          "base_uri": "https://localhost:8080/"
        },
        "id": "ad948076",
        "outputId": "a7219d95-3037-4f25-f4b8-d36b61698b67"
      },
      "outputs": [
        {
          "output_type": "stream",
          "name": "stdout",
          "text": [
            "Saved to: /content/sample_data.txt\n",
            "First 15 lines:\n",
            "\n",
            ">Acinetobacter Baumanii - acb\n",
            "K01704\n",
            "K10773\n",
            "K14682\n",
            "K07462\n",
            "K03643\n",
            "K00799\n",
            "K03799\n",
            "K00766\n",
            "K00564\n",
            "K01735\n",
            "K03774\n",
            "K03781\n",
            "K01652\n",
            "K03043\n"
          ]
        }
      ],
      "source": [
        "import requests\n",
        "from pathlib import Path\n",
        "\n",
        "# Raw URL of the file on GitHub\n",
        "url = \"https://raw.githubusercontent.com/DougFelipe/biorempp/main/src/biorempp/data/sample_data.txt\"\n",
        "\n",
        "# Output path\n",
        "outfile = Path(\"sample_data.txt\")\n",
        "\n",
        "# Download\n",
        "response = requests.get(url, timeout=30)\n",
        "response.raise_for_status()  # raise if request failed\n",
        "\n",
        "# Save to disk\n",
        "outfile.write_text(response.text, encoding=\"utf-8\")\n",
        "\n",
        "print(f\"Saved to: {outfile.resolve()}\")\n",
        "print(\"First 15 lines:\\n\")\n",
        "print(\"\\n\".join(response.text.splitlines()[:15]))\n"
      ]
    },
    {
      "cell_type": "markdown",
      "id": "b5678966",
      "metadata": {
        "id": "b5678966"
      },
      "source": [
        "---\n",
        "\n",
        "## 5. Single Database Analysis\n",
        "\n",
        "### 5.1 BioRemPP Core Database Analysis\n",
        "\n",
        "Single database analysis allows for focused investigation using specific knowledge bases. This approach is recommended when targeting particular aspects of bioremediation potential."
      ]
    },
    {
      "cell_type": "code",
      "execution_count": 17,
      "id": "28c7bccb",
      "metadata": {
        "colab": {
          "base_uri": "https://localhost:8080/"
        },
        "id": "28c7bccb",
        "outputId": "2d0a9a89-0b44-4597-bef6-a6cacbfb4fcc"
      },
      "outputs": [
        {
          "output_type": "stream",
          "name": "stdout",
          "text": [
            "\n",
            "[BIOREMPP] Processing with BIOREMPP Database\n",
            "===================================================================\n",
            "\n",
            "[LOAD] Loading input data...        OK 23,653 identifiers loaded\n",
            "\n",
            "[CONNECT] Connecting to BIOREMPP...    OK Database available\n",
            "[PROCESS] Processing data...          #################### 100%\n",
            "[SAVE] Saving results...            OK BioRemPP_Results.txt\n",
            "\n",
            "[SUCCESS] Processing completed successfully!\n",
            "   [RESULTS] Results: 7,613 matches found\n",
            "   [OUTPUT] Output: BioRemPP_Results.txt (914KB)\n",
            "   [TIME] Time: 0.2 seconds\n",
            "\n"
          ]
        }
      ],
      "source": [
        "# Analyze sample data against BioRemPP core database\n",
        "# This demonstrates targeted bioremediation potential assessment\n",
        "!biorempp --input sample_data.txt --database biorempp"
      ]
    },
    {
      "cell_type": "markdown",
      "id": "12bac12f",
      "metadata": {
        "id": "12bac12f"
      },
      "source": [
        "### 5.2 KEGG Database Analysis\n",
        "\n",
        "KEGG database analysis provides pathway-level information essential for understanding metabolic capabilities and bioremediation mechanisms."
      ]
    },
    {
      "cell_type": "code",
      "execution_count": 7,
      "id": "2145f619",
      "metadata": {
        "colab": {
          "base_uri": "https://localhost:8080/"
        },
        "id": "2145f619",
        "outputId": "501775be-fdd4-4de7-edd6-89dba1dcc76c"
      },
      "outputs": [
        {
          "output_type": "stream",
          "name": "stdout",
          "text": [
            "\n",
            "[BIOREMPP] Processing with KEGG Database\n",
            "===================================================================\n",
            "\n",
            "[LOAD] Loading input data...        OK 23,653 identifiers loaded\n",
            "\n",
            "[CONNECT] Connecting to KEGG...    OK Database available\n",
            "[PROCESS] Processing data...          #################### 100%\n",
            "[SAVE] Saving results...            OK KEGG_Results.txt\n",
            "\n",
            "[SUCCESS] Processing completed successfully!\n",
            "   [RESULTS] Results: 731 matches found\n",
            "   [OUTPUT] Output: KEGG_Results.txt (38KB)\n",
            "   [TIME] Time: 0.1 seconds\n",
            "\n"
          ]
        }
      ],
      "source": [
        "# Perform KEGG database analysis\n",
        "# This provides metabolic pathway and functional annotation information\n",
        "!biorempp --input sample_data.txt --database kegg"
      ]
    },
    {
      "cell_type": "markdown",
      "id": "7c884fa6",
      "metadata": {
        "id": "7c884fa6"
      },
      "source": [
        "### 5.3 HADEG Database Analysis\n",
        "\n",
        "HADEG (Hydrocarbon Aerobic Degradation Enzymes and Genes) analysis focuses on hydrocarbons, plastics and biosurfactants."
      ]
    },
    {
      "cell_type": "code",
      "execution_count": 5,
      "id": "9140f1d5",
      "metadata": {
        "colab": {
          "base_uri": "https://localhost:8080/"
        },
        "id": "9140f1d5",
        "outputId": "e7763837-2957-4a39-989f-e05f0b98a3e9"
      },
      "outputs": [
        {
          "output_type": "stream",
          "name": "stdout",
          "text": [
            "\n",
            "[BIOREMPP] Processing with HADEG Database\n",
            "===================================================================\n",
            "\n",
            "[LOAD] Loading input data...        OK 23,653 identifiers loaded\n",
            "\n",
            "[CONNECT] Connecting to HADEG...    OK Database available\n",
            "[PROCESS] Processing data...          #################### 100%\n",
            "[SAVE] Saving results...            OK HADEG_Results.txt\n",
            "\n",
            "[SUCCESS] Processing completed successfully!\n",
            "   [RESULTS] Results: 1,737 matches found\n",
            "   [OUTPUT] Output: HADEG_Results.txt (107KB)\n",
            "   [TIME] Time: 0.1 seconds\n",
            "\n"
          ]
        }
      ],
      "source": [
        "# Analyze against HADEG database for heavy metal remediation potential\n",
        "!biorempp --input sample_data.txt --database hadeg"
      ]
    },
    {
      "cell_type": "markdown",
      "id": "5fcc93fb",
      "metadata": {
        "id": "5fcc93fb"
      },
      "source": [
        "### 5.4 ToxCSM Database Analysis\n",
        "\n",
        "ToxCSM analysis provides toxicity prediction capabilities essential for safety assessment in bioremediation applications."
      ]
    },
    {
      "cell_type": "code",
      "execution_count": 20,
      "id": "2d15d07c",
      "metadata": {
        "colab": {
          "base_uri": "https://localhost:8080/"
        },
        "id": "2d15d07c",
        "outputId": "b147a144-a689-439e-c6ba-e7933b43fa9d"
      },
      "outputs": [
        {
          "output_type": "stream",
          "name": "stdout",
          "text": [
            "\n",
            "[BIOREMPP] Processing with TOXCSM Database\n",
            "===================================================================\n",
            "\n",
            "[LOAD] Loading input data...        OK 23,653 identifiers loaded\n",
            "\n",
            "[CONNECT] Connecting to TOXCSM...    OK Database available\n",
            "[PROCESS] Processing data...          #################### 100%\n",
            "[SAVE] Saving results...            OK ToxCSM.txt\n",
            "\n",
            "[SUCCESS] Processing completed successfully!\n",
            "   [RESULTS] Results: 7,624 matches found\n",
            "   [OUTPUT] Output: ToxCSM.txt (5MB)\n",
            "   [TIME] Time: 0.5 seconds\n",
            "\n"
          ]
        }
      ],
      "source": [
        "# Perform ToxCSM analysis for toxicity assessment\n",
        "!biorempp --input sample_data.txt --database toxcsm"
      ]
    },
    {
      "cell_type": "markdown",
      "id": "3119b53d",
      "metadata": {
        "id": "3119b53d"
      },
      "source": [
        "---\n",
        "\n",
        "## 6. Comprehensive Multi-Database Analysis\n",
        "\n",
        "### 6.1 All-Database Integration\n",
        "\n",
        "Comprehensive analysis utilizing all available databases provides the most complete assessment of bioremediation potential. This approach is recommended for systematic screening and comparative studies."
      ]
    },
    {
      "cell_type": "code",
      "execution_count": 21,
      "id": "da92958a",
      "metadata": {
        "colab": {
          "base_uri": "https://localhost:8080/"
        },
        "id": "da92958a",
        "outputId": "bffa8627-049a-4822-91b0-010af0325824"
      },
      "outputs": [
        {
          "output_type": "stream",
          "name": "stdout",
          "text": [
            "\n",
            "[BIOREMPP] Processing with ALL Databases\n",
            "===================================================================\n",
            "\n",
            "[LOAD] Loading input data...        OK 23,653 KO identifiers loaded\n",
            "\n",
            "[PROCESS] Processing databases [1/4]:\n",
            "   [DB] BioRemPP Database...      OK 7,613 matches -> BioRemPP_Results.txt\n",
            "\n",
            "[PROCESS] Processing databases [2/4]:\n",
            "   [DB] HAdeg Database...      OK 1,737 matches -> HADEG_Results.txt\n",
            "\n",
            "[PROCESS] Processing databases [3/4]:\n",
            "   [DB] KEGG Database...      OK 731 matches -> KEGG_Results.txt\n",
            "\n",
            "[PROCESS] Processing databases [4/4]:\n",
            "   [DB] ToxCSM Database...      OK 7,624 matches -> ToxCSM.txt\n",
            "\n",
            "[SUCCESS] All databases processed successfully!\n",
            "   [RESULTS] Total results: 17,705 matches across 4 databases\n",
            "   [OUTPUT] Location: outputs/results_tables/\n",
            "   [TIME] Total time: 0.9 seconds\n",
            "\n"
          ]
        }
      ],
      "source": [
        "# Perform comprehensive analysis across all databases\n",
        "# This provides the most complete bioremediation potential assessment\n",
        "!biorempp --input sample_data.txt --all-database"
      ]
    },
    {
      "cell_type": "markdown",
      "id": "06083081",
      "metadata": {
        "id": "06083081"
      },
      "source": [
        "---\n",
        "\n",
        "## 7. Output Analysis and Interpretation\n",
        "\n",
        "### 7.1 Result File Examination\n",
        "\n",
        "BioRemPP generates structured output files containing detailed matching information and analytical results. Each output file includes comprehensive metadata and statistical summaries."
      ]
    },
    {
      "cell_type": "code",
      "execution_count": 30,
      "id": "1a3b0072",
      "metadata": {
        "colab": {
          "base_uri": "https://localhost:8080/"
        },
        "id": "1a3b0072",
        "outputId": "687dc7c2-8533-4a57-cbbd-d1931daae5c4"
      },
      "outputs": [
        {
          "output_type": "stream",
          "name": "stdout",
          "text": [
            "Generated output files:\n",
            "  BioRemPP_Results.txt (936203 bytes)\n",
            "  HADEG_Results.txt (110438 bytes)\n",
            "  KEGG_Results.txt (39456 bytes)\n",
            "  ToxCSM.txt (5283101 bytes)\n",
            "\n",
            "==================================================\n",
            "Output files successfully generated\n",
            "Ready for downstream analysis and interpretation\n"
          ]
        }
      ],
      "source": [
        "import os\n",
        "import glob\n",
        "\n",
        "# Directory where results are stored\n",
        "results_dir = \"/content/outputs/results_tables\"\n",
        "\n",
        "# List all generated output files\n",
        "output_files = glob.glob(os.path.join(results_dir, '*'))\n",
        "\n",
        "report = [\"Generated output files:\"]\n",
        "\n",
        "if not output_files:\n",
        "    report.append(\"  No files found in results directory.\")\n",
        "else:\n",
        "    for file in sorted(output_files):\n",
        "        size = os.path.getsize(file)\n",
        "        report.append(f\"  {os.path.basename(file)} ({size} bytes)\")\n",
        "\n",
        "report.append(\"\\n\" + \"=\"*50)\n",
        "report.append(\"Output files successfully generated\")\n",
        "report.append(\"Ready for downstream analysis and interpretation\")\n",
        "\n",
        "# Join everything and print properly\n",
        "summary = \"\\n\".join(report)\n",
        "print(summary)\n"
      ]
    },
    {
      "cell_type": "markdown",
      "id": "057f7744",
      "metadata": {
        "id": "057f7744"
      },
      "source": [
        "### 7.2 Sample Output Content Analysis\n",
        "\n",
        "To demonstrate the analytical value of BioRemPP output, we examine representative results from our comprehensive analysis."
      ]
    },
    {
      "cell_type": "code",
      "execution_count": 39,
      "id": "47c93f57",
      "metadata": {
        "colab": {
          "base_uri": "https://localhost:8080/"
        },
        "id": "47c93f57",
        "outputId": "0353471a-0619-46b1-98a9-c102e74229d8"
      },
      "outputs": [
        {
          "output_type": "stream",
          "name": "stdout",
          "text": [
            "Sample Output Content Analysis\n",
            "==================================================\n",
            "\n",
            "📄 File: BioRemPP_Results.txt\n",
            "--------------------------------------------------\n",
            "                      sample     ko genesymbol                   genename    cpd    compoundclass referenceAG    compoundname enzyme_activity\n",
            "Acinetobacter Baumanii - acb K00799        GST glutathione S-transferase  C10928      Chlorinated         WFD        Alachlor     transferase\n",
            "Acinetobacter Baumanii - acb K00799        GST glutathione S-transferase  C14322      Chlorinated         WFD    Chlorpyrifos     transferase\n",
            "Acinetobacter Baumanii - acb K00799        GST glutathione S-transferase  C06790      Chlorinated      CONAMA Trichloroethene     transferase\n",
            "Acinetobacter Baumanii - acb K00799        GST glutathione S-transferase  C10928      Chlorinated         EPC        Alachlor     transferase\n",
            "Acinetobacter Baumanii - acb K00799        GST glutathione S-transferase  C14322 Organophosphorus         EPC    Chlorpyrifos     transferase\n",
            "\n",
            "📄 File: HADEG_Results.txt\n",
            "--------------------------------------------------\n",
            "                      sample     ko   Gene                                               Pathway compound_pathway\n",
            "Acinetobacter Baumanii - acb K00799   isoI                                B_Isoprene_degradation          Alkenes\n",
            "Acinetobacter Baumanii - acb K00528  xamoF                                 B_Propene_degradation          Alkenes\n",
            "Acinetobacter Baumanii - acb K00528  nagAa C_1-Methylnaphthalene/2-Methylnaphthalene_degradation        Aromatics\n",
            "Acinetobacter Baumanii - acb K00528 tphA1I                           C_Terephthalate_degradation        Aromatics\n",
            "Acinetobacter Baumanii - acb K01061   phaZ                                                D_P4HB         Polymers\n",
            "\n",
            "📄 File: KEGG_Results.txt\n",
            "--------------------------------------------------\n",
            "                      sample     ko                        pathname genesymbol\n",
            "Acinetobacter Baumanii - acb K00799                 Cytochrome P450        GST\n",
            "Acinetobacter Baumanii - acb K01061                         Toluene  E3.1.1.45\n",
            "Acinetobacter Baumanii - acb K01061                  Fluorobenzoate  E3.1.1.45\n",
            "Acinetobacter Baumanii - acb K01061 Cl. cyclohexane and Cl. benzene  E3.1.1.45\n",
            "Acinetobacter Baumanii - acb K03381 Cl. cyclohexane and Cl. benzene       catA\n",
            "\n",
            "📄 File: ToxCSM.txt\n",
            "--------------------------------------------------\n",
            "                      sample     ko genesymbol                   genename    cpd    compoundclass referenceAG    compoundname enzyme_activity                           SMILES  ChEBI  value_NR_AR label_NR_AR  value_NR_AR_LBD label_NR_AR_LBD  value_NR_AhR  label_NR_AhR  value_NR_Aromatase label_NR_Aromatase  value_NR_ER   label_NR_ER  value_NR_ER_LBD label_NR_ER_LBD  value_NR_PPAR_gamma label_NR_PPAR_gamma  value_NR_GR label_NR_GR  value_NR_TR   label_NR_TR  value_SR_ARE    label_SR_ARE  value_SR_ATAD5 label_SR_ATAD5  value_SR_HSE  label_SR_HSE  value_SR_MMP    label_SR_MMP  value_SR_p53 label_SR_p53  value_Gen_AMES_Mutagenesis label_Gen_AMES_Mutagenesis  value_Gen_Carcinogenesis label_Gen_Carcinogenesis  value_Gen_Micronucleus label_Gen_Micronucleus  value_Env_Fathead_Minnow label_Env_Fathead_Minnow  value_Env_T_Pyriformis label_Env_T_Pyriformis  value_Env_Honey_Bee label_Env_Honey_Bee  value_Env_Biodegradation label_Env_Biodegradation  value_Env_Crustacean label_Env_Crustacean  value_Env_Avian label_Env_Avian  value_Org_Skin_Sensitisation label_Org_Skin_Sensitisation  value_Org_hERG_I_Inhibitor label_Org_hERG_I_Inhibitor  value_Org_hERG_II_Inhibitor label_Org_hERG_II_Inhibitor  value_Org_Liver_Injury_I label_Org_Liver_Injury_I  value_Org_Liver_Injury_II label_Org_Liver_Injury_II  value_Org_Eye_Irritation label_Org_Eye_Irritation  value_Org_Eye_Corrosion label_Org_Eye_Corrosion  value_Org_Respiratory_Disease label_Org_Respiratory_Disease\n",
            "Acinetobacter Baumanii - acb K00799        GST glutathione S-transferase  C10928      Chlorinated         WFD        Alachlor     transferase     CCc1cccc(CC)c1N(COC)C(=O)CCl   2533          0.0 High Safety              0.0     High Safety          0.06   High Safety                0.09        High Safety         0.17 Medium Safety             0.01     High Safety                 0.02         High Safety         0.09 High Safety         0.48    Low Safety          0.79 Medium Toxicity            0.01    High Safety          0.26 Medium Safety          0.15     High Safety          0.04  High Safety                         1.0              High Toxicity                      0.00              High Safety                     0.5           Low Toxicity                      0.99            High Toxicity                    0.99          High Toxicity                 0.03         High Safety                      0.25            Medium Safety                   1.0        High Toxicity             0.01     High Safety                          0.55                 Low Toxicity                        0.03                High Safety                         0.05                 High Safety                      0.08              High Safety                       0.18             Medium Safety                      0.64             Low Toxicity                     0.13             High Safety                           0.28                 Medium Safety\n",
            "Acinetobacter Baumanii - acb K00799        GST glutathione S-transferase  C14322      Chlorinated         WFD    Chlorpyrifos     transferase CCOP(=S)(OCC)Oc1nc(Cl)c(Cl)cc1Cl  34631          0.0 High Safety              0.0     High Safety          0.86 High Toxicity                0.00        High Safety         0.11   High Safety             0.02     High Safety                 0.02         High Safety         0.02 High Safety         0.24 Medium Safety          0.66    Low Toxicity            0.01    High Safety          0.00   High Safety          0.74 Medium Toxicity          0.08  High Safety                         0.0                High Safety                      0.90            High Toxicity                     0.5           Low Toxicity                      0.73          Medium Toxicity                    0.93          High Toxicity                 0.67     Medium Toxicity                      0.02              High Safety                   1.0        High Toxicity             0.97   High Toxicity                          0.52                 Low Toxicity                        0.07                High Safety                         0.19               Medium Safety                      0.94            High Toxicity                       0.28             Medium Safety                      0.11              High Safety                     0.20           Medium Safety                           0.00                   High Safety\n",
            "Acinetobacter Baumanii - acb K00799        GST glutathione S-transferase  C06790      Chlorinated      CONAMA Trichloroethene     transferase                      ClC=C(Cl)Cl  16602          0.0 High Safety              0.0     High Safety          0.01   High Safety                0.00        High Safety         0.03   High Safety             0.01     High Safety                 0.01         High Safety         0.02 High Safety         0.00   High Safety          0.07     High Safety            0.05    High Safety          0.00   High Safety          0.00     High Safety          0.01  High Safety                         0.0                High Safety                      0.15              High Safety                     0.5           Low Toxicity                      0.94            High Toxicity                    0.78        Medium Toxicity                 0.85       High Toxicity                      0.02              High Safety                   1.0        High Toxicity             0.01     High Safety                          0.38                   Low Safety                        0.08                High Safety                         0.36                  Low Safety                      0.02              High Safety                       0.38                Low Safety                      0.98            High Toxicity                     0.93           High Toxicity                           1.00                 High Toxicity\n",
            "Acinetobacter Baumanii - acb K00799        GST glutathione S-transferase  C10928      Chlorinated         EPC        Alachlor     transferase     CCc1cccc(CC)c1N(COC)C(=O)CCl   2533          0.0 High Safety              0.0     High Safety          0.06   High Safety                0.09        High Safety         0.17 Medium Safety             0.01     High Safety                 0.02         High Safety         0.09 High Safety         0.48    Low Safety          0.79 Medium Toxicity            0.01    High Safety          0.26 Medium Safety          0.15     High Safety          0.04  High Safety                         1.0              High Toxicity                      0.00              High Safety                     0.5           Low Toxicity                      0.99            High Toxicity                    0.99          High Toxicity                 0.03         High Safety                      0.25            Medium Safety                   1.0        High Toxicity             0.01     High Safety                          0.55                 Low Toxicity                        0.03                High Safety                         0.05                 High Safety                      0.08              High Safety                       0.18             Medium Safety                      0.64             Low Toxicity                     0.13             High Safety                           0.28                 Medium Safety\n",
            "Acinetobacter Baumanii - acb K00799        GST glutathione S-transferase  C14322 Organophosphorus         EPC    Chlorpyrifos     transferase CCOP(=S)(OCC)Oc1nc(Cl)c(Cl)cc1Cl  34631          0.0 High Safety              0.0     High Safety          0.86 High Toxicity                0.00        High Safety         0.11   High Safety             0.02     High Safety                 0.02         High Safety         0.02 High Safety         0.24 Medium Safety          0.66    Low Toxicity            0.01    High Safety          0.00   High Safety          0.74 Medium Toxicity          0.08  High Safety                         0.0                High Safety                      0.90            High Toxicity                     0.5           Low Toxicity                      0.73          Medium Toxicity                    0.93          High Toxicity                 0.67     Medium Toxicity                      0.02              High Safety                   1.0        High Toxicity             0.97   High Toxicity                          0.52                 Low Toxicity                        0.07                High Safety                         0.19               Medium Safety                      0.94            High Toxicity                       0.28             Medium Safety                      0.11              High Safety                     0.20           Medium Safety                           0.00                   High Safety\n"
          ]
        }
      ],
      "source": [
        "import os\n",
        "import glob\n",
        "import pandas as pd\n",
        "\n",
        "# Directory containing the result tables\n",
        "results_dir = \"/content/outputs/results_tables\"\n",
        "\n",
        "# Number of lines to preview from each file\n",
        "head_rows = 5\n",
        "\n",
        "# Find all result tables with .csv or .txt extensions\n",
        "table_files = sorted(\n",
        "    glob.glob(os.path.join(results_dir, \"*.csv\")) +\n",
        "    glob.glob(os.path.join(results_dir, \"*.txt\"))\n",
        ")\n",
        "\n",
        "print(\"Sample Output Content Analysis\")\n",
        "print(\"=\" * 50)\n",
        "\n",
        "if not table_files:\n",
        "    print(\"No table files found in results directory.\")\n",
        "else:\n",
        "    # Improve console display formatting\n",
        "    pd.set_option(\"display.max_colwidth\", 200)\n",
        "    pd.set_option(\"display.width\", None)\n",
        "\n",
        "    for file in table_files:\n",
        "        print(f\"\\n📄 File: {os.path.basename(file)}\")\n",
        "        print(\"-\" * 50)\n",
        "\n",
        "        # Simple heuristic to detect delimiter (semicolon, comma, tab, or pipe)\n",
        "        try:\n",
        "            with open(file, \"rb\") as fh:\n",
        "                sample = fh.read(4096).decode(\"utf-8\", errors=\"ignore\")\n",
        "            counts = {sep: sample.count(sep) for sep in [\",\", \";\", \"\\t\", \"|\"]}\n",
        "            # Pick the most frequent separator; if none found, let pandas infer\n",
        "            sep = max(counts, key=counts.get) if max(counts.values()) > 0 else None\n",
        "\n",
        "            # Attempt to read the file with pandas\n",
        "            df = pd.read_csv(\n",
        "                file,\n",
        "                sep=sep if sep else None,\n",
        "                engine=\"python\",\n",
        "                nrows=head_rows,\n",
        "                on_bad_lines=\"skip\",  # use error_bad_lines=False for older pandas\n",
        "            )\n",
        "            print(df.to_string(index=False))\n",
        "        except Exception as e:\n",
        "            # Fallback: show raw text preview if parsing fails\n",
        "            print(f\"Could not parse as CSV/TSV ({e}). Raw preview (first {head_rows} lines):\")\n",
        "            try:\n",
        "                with open(file, \"r\", encoding=\"utf-8\", errors=\"replace\") as f:\n",
        "                    for i, line in enumerate(f):\n",
        "                        if i >= head_rows:\n",
        "                            break\n",
        "                        print(line.rstrip())\n",
        "            except Exception as ie:\n",
        "                print(f\"Also failed to open raw text: {ie}\")\n"
      ]
    },
    {
      "cell_type": "markdown",
      "id": "8b9129ca",
      "metadata": {
        "id": "8b9129ca"
      },
      "source": [
        "\n",
        "\n",
        "## 8. Advanced Usage Patterns\n",
        "\n",
        "### 8.1 Customizing the Output Path\n",
        "\n",
        "By default, BioRemPP writes all result tables to:\n",
        "\n",
        "```\n",
        "outputs/results_tables\n",
        "```\n",
        "\n",
        "You can change this location using the `--output-dir` flag.\n",
        "\n",
        "**Example:**\n",
        "\n",
        "```bash\n",
        "!biorempp --input sample_data.txt --all-databases --output-dir /content/my_results\n",
        "```\n",
        "\n",
        "➡️ The command above will run BioRemPP with all databases and store the generated output files inside:\n",
        "\n",
        "```\n",
        "/content/my_results\n",
        "```\n",
        "\n",
        "---\n",
        "\n",
        "### 8.2 Controlling Verbosity Levels\n",
        "\n",
        "BioRemPP provides three verbosity options to control how much information is displayed during execution:\n",
        "\n",
        "* `--quiet` or `-q` → Silent mode. Only errors are shown.\n",
        "* `--verbose` or `-v` → Verbose mode (default). Shows detailed progress and processing steps.\n",
        "* `--debug` → Debug mode. Prints technical details, internal operations, and generates log traces.\n",
        "\n",
        "**Examples:**\n",
        "\n",
        "1. Run in **silent mode** (no progress messages):\n",
        "\n",
        "```bash\n",
        "!biorempp --input sample_data.txt --all-databases --quiet\n",
        "```\n",
        "\n",
        "2. Run in **verbose mode** (see detailed steps of execution):\n",
        "\n",
        "```bash\n",
        "!biorempp --input sample_data.txt --all-databases --verbose\n",
        "```\n",
        "\n",
        "3. Run in **debug mode** (for troubleshooting, with technical logs):\n",
        "\n",
        "```bash\n",
        "!biorempp --input sample_data.txt --all-databases --debug\n",
        "```\n"
      ]
    },
    {
      "cell_type": "markdown",
      "id": "170d30ad",
      "metadata": {
        "id": "170d30ad"
      },
      "source": [
        "---\n",
        "\n",
        "## 9. Integration with Bioinformatics Workflows\n",
        "\n",
        "### 9.1 Pipeline Integration Considerations\n",
        "\n",
        "BioRemPP is designed for seamless integration into existing bioinformatics pipelines. Key considerations include:\n",
        "\n",
        "- **Standardized Input Formats**: Compatible with common annotation pipeline outputs\n",
        "- **Structured Output**: Machine-readable formats suitable for downstream analysis\n",
        "- **Error Codes**: Appropriate exit codes for pipeline automation\n",
        "- **Performance Optimization**: Efficient processing for large-scale datasets\n",
        "\n",
        "### 9.2 Reproducibility and Documentation\n",
        "\n",
        "Scientific reproducibility requires comprehensive documentation of analytical parameters and software versions. BioRemPP supports this through:\n",
        "\n",
        "- Detailed logging capabilities\n",
        "- Version tracking and metadata inclusion\n",
        "- Parameter validation and documentation\n",
        "- Standardized output formats"
      ]
    },
    {
      "cell_type": "markdown",
      "id": "51d9ebaa",
      "metadata": {
        "id": "51d9ebaa"
      },
      "source": [
        "---\n",
        "\n",
        "## 10. Conclusion and Best Practices\n",
        "\n",
        "### 10.1 Summary of Demonstrated Capabilities\n",
        "\n",
        "This technical demonstration has showcased the comprehensive functionality of the BioRemPP command-line interface, including:\n",
        "\n",
        "1. **Installation and Setup**: Proper package installation and environment configuration\n",
        "2. **Information Discovery**: Database enumeration and detailed metadata retrieval\n",
        "3. **Single Database Analysis**: Targeted analysis using specific knowledge bases\n",
        "4. **Multi-Database Integration**: Comprehensive analysis across all available databases\n",
        "5. **Output Management**: Structured result generation and interpretation\n",
        "6. **Error Handling**: Robust validation and error management systems\n",
        "\n",
        "### 10.2 Recommended Workflows\n",
        "\n",
        "For optimal results in bioremediation potential assessment:\n",
        "\n",
        "1. **Exploratory Analysis**: Begin with `info` and `list-databases` commands\n",
        "2. **Targeted Investigation**: Use single database analysis for specific research questions\n",
        "3. **Comprehensive Assessment**: Apply multi-database analysis for complete evaluation\n",
        "4. **Quality Control**: Implement appropriate validation and verification procedures\n",
        "5. **Documentation**: Maintain comprehensive records of analytical parameters and results\n",
        "\n",
        "### 10.3 Future Directions\n",
        "\n",
        "BioRemPP represents a foundational tool for computational bioremediation analysis. Future developments may include:\n",
        "\n",
        "- Enhanced database integration and updates\n",
        "- Advanced statistical analysis capabilities\n",
        "- Machine learning-based prediction models\n",
        "- Extended output formats and visualization tools\n",
        "- Performance optimizations for large-scale genomic datasets\n",
        "\n",
        "### 10.4 Support and Documentation\n",
        "\n",
        "Comprehensive documentation, including API references, usage examples, and troubleshooting guides, is available through https://biorempp.readthedocs.io/en/latest/.\n",
        "\n",
        "The development team maintains active support channels for technical assistance and feature requests.\n",
        "\n",
        "---\n",
        "\n",
        "**Acknowledgments**: BioRemPP development follows open-source principles and welcomes community contributions to enhance capabilities and broaden applicability in environmental bioinformatics research."
      ]
    }
  ],
  "metadata": {
    "language_info": {
      "name": "python"
    },
    "colab": {
      "provenance": []
    },
    "kernelspec": {
      "name": "python3",
      "display_name": "Python 3"
    }
  },
  "nbformat": 4,
  "nbformat_minor": 5
}
